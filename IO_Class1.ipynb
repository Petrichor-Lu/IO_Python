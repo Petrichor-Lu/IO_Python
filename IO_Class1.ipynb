{
 "cells": [
  {
   "cell_type": "code",
   "execution_count": 1,
   "id": "5d067590",
   "metadata": {},
   "outputs": [],
   "source": [
    "globals().clear()"
   ]
  },
  {
   "cell_type": "code",
   "execution_count": null,
   "id": "24d13d47",
   "metadata": {},
   "outputs": [],
   "source": [
    "import sys\n",
    "import numpy as np\n",
    "import pandas as pd\n",
    "import statsmodels.api as sm\n",
    "from statsmodels.discrete.discrete_model import Logit"
   ]
  },
  {
   "cell_type": "code",
   "execution_count": 7,
   "id": "65109c81",
   "metadata": {},
   "outputs": [],
   "source": [
    "df = pd.read_csv(\"/Users/terrylu/Desktop/UF/Courses/2025-2026/IO/IO_Python/data/coffee_data.csv\")"
   ]
  },
  {
   "cell_type": "markdown",
   "id": "6cbde225",
   "metadata": {},
   "source": [
    "### show data for the first 5 lines"
   ]
  },
  {
   "cell_type": "code",
   "execution_count": 11,
   "id": "6be9a261",
   "metadata": {},
   "outputs": [
    {
     "name": "stdout",
     "output_type": "stream",
     "text": [
      "\n",
      ">>> /Users/terrylu/Desktop/UF/Courses/2025-2026/IO/IO_Python/data/coffee_data.csv First 3 Lines:\n",
      "   price_starbucks  price_dunkin  time_starbucks  time_dunkin     income  \\\n",
      "0         5.195254      4.993072              10           20  60.313563   \n",
      "1         5.860757      2.720811               5           19  84.390030   \n",
      "2         5.411054      3.556093               8           14  65.918877   \n",
      "3         5.179533      2.150401               5            6  54.251162   \n",
      "4         4.694619      2.047151               5           11  71.886693   \n",
      "\n",
      "   choice_is_starbucks  \n",
      "0                    1  \n",
      "1                    0  \n",
      "2                    1  \n",
      "3                    0  \n",
      "4                    0  \n"
     ]
    }
   ],
   "source": [
    "for fname in [\n",
    "    \"/Users/terrylu/Desktop/UF/Courses/2025-2026/IO/IO_Python/data/coffee_data.csv\"\n",
    "]:\n",
    "    print(f\"\\n>>> {fname} First 3 Lines:\")\n",
    "    print(pd.read_csv(fname, nrows=5))"
   ]
  },
  {
   "cell_type": "code",
   "execution_count": 9,
   "id": "19ec31f9",
   "metadata": {},
   "outputs": [
    {
     "name": "stdout",
     "output_type": "stream",
     "text": [
      "                          mean        std       min         max\n",
      "price_starbucks       4.985836   1.158422  3.000290    6.999912\n",
      "price_dunkin          3.980958   1.165219  2.000666    5.999848\n",
      "time_starbucks       12.511100   4.594604  5.000000   20.000000\n",
      "time_dunkin          12.434200   4.590226  5.000000   20.000000\n",
      "income               59.828028  15.027648 -9.899295  114.084881\n",
      "choice_is_starbucks   0.324900   0.468361  0.000000    1.000000\n"
     ]
    }
   ],
   "source": [
    "print(df.describe().T[['mean', 'std', 'min', 'max']])"
   ]
  },
  {
   "cell_type": "markdown",
   "id": "2d0d7cbf",
   "metadata": {},
   "source": [
    "Income is in 1000s\n",
    "\n",
    "Travel time is in minutes\n",
    "\n",
    "price is in dollars"
   ]
  },
  {
   "cell_type": "markdown",
   "id": "2798cebd",
   "metadata": {},
   "source": [
    "Individual level data\n",
    "\n",
    "Income varianle will be interacted with price"
   ]
  },
  {
   "cell_type": "code",
   "execution_count": 14,
   "id": "0632ef74",
   "metadata": {},
   "outputs": [
    {
     "name": "stdout",
     "output_type": "stream",
     "text": [
      "                     price_starbucks  price_dunkin  time_starbucks  \\\n",
      "choice_is_starbucks                                                  \n",
      "Chose Dunkin                5.331770      3.634030       12.976152   \n",
      "Chose Starbucks             4.267028      4.701831       11.544783   \n",
      "\n",
      "                     time_dunkin     income  \n",
      "choice_is_starbucks                          \n",
      "Chose Dunkin           11.988891  59.666324  \n",
      "Chose Starbucks        13.359495  60.164027  \n"
     ]
    }
   ],
   "source": [
    "summary_by_choice = df.groupby('choice_is_starbucks').agg({\n",
    "    'price_starbucks': 'mean',\n",
    "    'price_dunkin': 'mean',\n",
    "    'time_starbucks': 'mean',\n",
    "    'time_dunkin': 'mean',\n",
    "    'income': 'mean'\n",
    "    }).rename(index={0: 'Chose Dunkin', 1: 'Chose Starbucks'})\n",
    "\n",
    "print(summary_by_choice)"
   ]
  },
  {
   "cell_type": "markdown",
   "id": "ce4aff66",
   "metadata": {},
   "source": [
    "create new variable for differences between product characteristics"
   ]
  },
  {
   "cell_type": "code",
   "execution_count": 15,
   "id": "ee5432b7",
   "metadata": {},
   "outputs": [],
   "source": [
    "df['price_diff'] = df['price_starbucks'] - df['price_dunkin']\n",
    "df['time_diff'] = df['time_starbucks'] - df['time_dunkin']\n",
    "df['price_income_interaction'] = df['price_starbucks'] * df['income']- df['price_dunkin'] * df['income']\n",
    "\n",
    "y = df['choice_is_starbucks']\n",
    "X = df[['price_diff', 'time_diff', 'price_income_interaction']]"
   ]
  },
  {
   "cell_type": "markdown",
   "id": "7cb43de8",
   "metadata": {},
   "source": [
    "note: no inercept here"
   ]
  },
  {
   "cell_type": "code",
   "execution_count": 18,
   "id": "57a20001",
   "metadata": {},
   "outputs": [
    {
     "name": "stdout",
     "output_type": "stream",
     "text": [
      "Optimization terminated successfully.\n",
      "         Current function value: 0.363798\n",
      "         Iterations 7\n",
      "                            Logit Regression Results                           \n",
      "===============================================================================\n",
      "Dep. Variable:     choice_is_starbucks   No. Observations:                10000\n",
      "Model:                           Logit   Df Residuals:                     9997\n",
      "Method:                            MLE   Df Model:                            2\n",
      "Date:                 Wed, 10 Sep 2025   Pseudo R-squ.:                  0.4230\n",
      "Time:                         14:30:35   Log-Likelihood:                -3638.0\n",
      "converged:                        True   LL-Null:                       -6305.1\n",
      "Covariance Type:             nonrobust   LLR p-value:                     0.000\n",
      "============================================================================================\n",
      "                               coef    std err          z      P>|z|      [0.025      0.975]\n",
      "--------------------------------------------------------------------------------------------\n",
      "price_diff                  -1.5569      0.109    -14.332      0.000      -1.770      -1.344\n",
      "time_diff                   -0.1236      0.005    -25.043      0.000      -0.133      -0.114\n",
      "price_income_interaction     0.0024      0.002      1.372      0.170      -0.001       0.006\n",
      "============================================================================================\n"
     ]
    }
   ],
   "source": [
    "logit_model = Logit(y, X)\n",
    "\n",
    "logit_result = logit_model.fit(disp=True) # show iteration\n",
    "\n",
    "print(logit_result.summary())"
   ]
  },
  {
   "cell_type": "markdown",
   "id": "cb5ffb9c",
   "metadata": {},
   "source": [
    "price_income_interaction     0.0024: \n",
    "\n",
    "higer income people are less price sensitive\n",
    "\n",
    "why: they care less about price\n",
    "\n",
    "math why: the coefficient is positive, so as income increases, the negative effect of price_diff on the utility of choosing Starbucks is mitigated."
   ]
  },
  {
   "cell_type": "markdown",
   "id": "4cd0353c",
   "metadata": {},
   "source": [
    "### With Robust Covariance Matrix"
   ]
  },
  {
   "cell_type": "code",
   "execution_count": 19,
   "id": "85722e8a",
   "metadata": {},
   "outputs": [
    {
     "name": "stdout",
     "output_type": "stream",
     "text": [
      "Optimization terminated successfully.\n",
      "         Current function value: 0.363798\n",
      "         Iterations 7\n",
      "                            Logit Regression Results                           \n",
      "===============================================================================\n",
      "Dep. Variable:     choice_is_starbucks   No. Observations:                10000\n",
      "Model:                           Logit   Df Residuals:                     9997\n",
      "Method:                            MLE   Df Model:                            2\n",
      "Date:                 Wed, 10 Sep 2025   Pseudo R-squ.:                  0.4230\n",
      "Time:                         14:36:08   Log-Likelihood:                -3638.0\n",
      "converged:                        True   LL-Null:                       -6305.1\n",
      "Covariance Type:                   HC0   LLR p-value:                     0.000\n",
      "============================================================================================\n",
      "                               coef    std err          z      P>|z|      [0.025      0.975]\n",
      "--------------------------------------------------------------------------------------------\n",
      "price_diff                  -1.5569      0.112    -13.955      0.000      -1.776      -1.338\n",
      "time_diff                   -0.1236      0.005    -24.984      0.000      -0.133      -0.114\n",
      "price_income_interaction     0.0024      0.002      1.339      0.181      -0.001       0.006\n",
      "============================================================================================\n"
     ]
    }
   ],
   "source": [
    "logit_result_robust = logit_model.fit(disp=True, cov_type='HC0')  # HC0 for robust standard errors\n",
    "print(logit_result_robust.summary())"
   ]
  },
  {
   "cell_type": "markdown",
   "id": "6365bdfa",
   "metadata": {},
   "source": [
    "### Predicted probabilities"
   ]
  },
  {
   "cell_type": "code",
   "execution_count": 20,
   "id": "a5b2d17b",
   "metadata": {},
   "outputs": [
    {
     "name": "stdout",
     "output_type": "stream",
     "text": [
      "   choice_is_starbucks  presdicted_prob_starbucks\n",
      "0                    1                   0.721069\n",
      "1                    0                   0.073876\n",
      "2                    1                   0.135187\n",
      "3                    0                   0.014750\n",
      "4                    0                   0.050792\n",
      "5                    0                   0.718698\n",
      "6                    0                   0.185674\n",
      "7                    0                   0.002713\n",
      "8                    0                   0.001230\n",
      "9                    1                   0.594925\n"
     ]
    }
   ],
   "source": [
    "df['presdicted_prob_starbucks'] = logit_result.predict(X)\n",
    "print(df[['choice_is_starbucks', 'presdicted_prob_starbucks']].head(10))"
   ]
  },
  {
   "cell_type": "markdown",
   "id": "e593240d",
   "metadata": {},
   "source": [
    "### Classification Rate\n",
    "what's classification rate?: the percentage of correct predictions made by the model."
   ]
  },
  {
   "cell_type": "code",
   "execution_count": 25,
   "id": "8e777333",
   "metadata": {},
   "outputs": [
    {
     "name": "stdout",
     "output_type": "stream",
     "text": [
      "<bound method Series.mean of 0       False\n",
      "1       False\n",
      "2        True\n",
      "3       False\n",
      "4       False\n",
      "        ...  \n",
      "9995     True\n",
      "9996     True\n",
      "9997    False\n",
      "9998     True\n",
      "9999    False\n",
      "Length: 10000, dtype: bool>\n"
     ]
    }
   ],
   "source": [
    "df['predicted_choice'] = (df['presdicted_prob_starbucks'] >= 0.5).astype(int)\n",
    "# Calculate classification rate: the percentage of correct predictions\n",
    "misclassified = (df['predicted_choice'] != df['choice_is_starbucks']).mean\n",
    "\n",
    "print(misclassified)"
   ]
  },
  {
   "cell_type": "markdown",
   "id": "e3a03d28",
   "metadata": {},
   "source": [
    "### Marginal Effects"
   ]
  },
  {
   "cell_type": "code",
   "execution_count": 26,
   "id": "31e326cd",
   "metadata": {},
   "outputs": [
    {
     "name": "stdout",
     "output_type": "stream",
     "text": [
      "        Logit Marginal Effects        \n",
      "======================================\n",
      "Dep. Variable:     choice_is_starbucks\n",
      "Method:                           dydx\n",
      "At:                            overall\n",
      "============================================================================================\n",
      "                              dy/dx    std err          z      P>|z|      [0.025      0.975]\n",
      "--------------------------------------------------------------------------------------------\n",
      "price_diff                  -0.1799      0.012    -14.888      0.000      -0.204      -0.156\n",
      "time_diff                   -0.0143      0.001    -28.522      0.000      -0.015      -0.013\n",
      "price_income_interaction     0.0003      0.000      1.372      0.170      -0.000       0.001\n",
      "============================================================================================\n"
     ]
    }
   ],
   "source": [
    "mfx = logit_result.get_margeff()\n",
    "print(mfx.summary())"
   ]
  },
  {
   "cell_type": "markdown",
   "id": "1de9d5f2",
   "metadata": {},
   "source": [
    "### Market Share Simulation (Price)"
   ]
  },
  {
   "cell_type": "code",
   "execution_count": null,
   "id": "3b3f7b0e",
   "metadata": {},
   "outputs": [
    {
     "name": "stdout",
     "output_type": "stream",
     "text": [
      "Old Market Share of Starbucks: 0.3249\n",
      "New Market Share of Starbucks after $1 price increase: 0.1781\n"
     ]
    }
   ],
   "source": [
    "df_sim = df.copy() # create a copy of the original dataframe for simulation\n",
    "df_sim['price_starbucks_new'] = df_sim['price_starbucks'] + 1\n",
    "df_sim['price_diff_new'] = df_sim['price_starbucks_new'] - df_sim['price_dunkin']\n",
    "\n",
    "df_sim['price_income_interaction_new'] = df_sim['price_starbucks_new'] * df_sim['income'] - df_sim['price_dunkin'] * df_sim['income']\n",
    "\n",
    "X_sim = df_sim[['price_diff_new', 'time_diff', 'price_income_interaction_new']] \n",
    "df_sim['predicted_prob_starbucks_new'] = logit_result.predict(X_sim)\n",
    "\n",
    "old_market_share = df['choice_is_starbucks'].mean()\n",
    "new_market_share = df_sim['predicted_prob_starbucks_new'].mean()\n",
    "print(f\"Old Market Share of Starbucks: {old_market_share:.4f}\")\n",
    "print(f\"New Market Share of Starbucks after $1 price increase: {new_market_share:.4f}\")"
   ]
  },
  {
   "cell_type": "markdown",
   "id": "d76eced5",
   "metadata": {},
   "source": [
    "### Market Share Simulation (Income + 10% increase)"
   ]
  },
  {
   "cell_type": "code",
   "execution_count": 32,
   "id": "380daeb3",
   "metadata": {},
   "outputs": [
    {
     "name": "stdout",
     "output_type": "stream",
     "text": [
      "Old Market Share of Starbucks: 0.3249\n",
      "New Market Share of Starbucks after 10% income increase: 0.3221\n"
     ]
    }
   ],
   "source": [
    "# income increase\n",
    "df_sim2 = df.copy()\n",
    "df_sim2['income_new'] = df_sim2['income'] * 1.1\n",
    "df_sim2['price_income_interaction_new'] = df_sim2['price_starbucks'] * df_sim2['income_new'] - df_sim2['price_dunkin'] * df_sim2['income_new']\n",
    "\n",
    "# new X variables\n",
    "X_sim2 = df_sim2[['price_diff', 'time_diff', 'price_income_interaction_new']]\n",
    "\n",
    "# predicted probabilities with new income\n",
    "df_sim2['predicted_prob_starbucks_new2'] = logit_result.predict(X_sim2)\n",
    "\n",
    "# comare market shares\n",
    "old_market_share2 = df['choice_is_starbucks'].mean()\n",
    "new_market_share2 = df_sim2['predicted_prob_starbucks_new2'].mean()\n",
    "print(f\"Old Market Share of Starbucks: {old_market_share2:.4f}\")\n",
    "print(f\"New Market Share of Starbucks after 10% income increase: {new_market_share2:.4f}\")  "
   ]
  },
  {
   "cell_type": "markdown",
   "id": "dc29c851",
   "metadata": {},
   "source": [
    "## Try Logit By Hand"
   ]
  },
  {
   "cell_type": "code",
   "execution_count": 33,
   "id": "c3ff1528",
   "metadata": {},
   "outputs": [],
   "source": [
    "from scipy.optimize import minimize"
   ]
  },
  {
   "cell_type": "markdown",
   "id": "ad3fb8aa",
   "metadata": {},
   "source": [
    "The @ operator "
   ]
  },
  {
   "cell_type": "code",
   "execution_count": 36,
   "id": "17fe8414",
   "metadata": {},
   "outputs": [
    {
     "name": "stdout",
     "output_type": "stream",
     "text": [
      "[[19 22]\n",
      " [43 50]]\n"
     ]
    }
   ],
   "source": [
    "# Define Two Matrices\n",
    "A = np.array([[1, 2], [3, 4]])\n",
    "B = np.array([[5, 6], [7, 8]])\n",
    "\n",
    "print(A @ B)  # Matrix multiplication"
   ]
  },
  {
   "cell_type": "markdown",
   "id": "96421b54",
   "metadata": {},
   "source": [
    "Define our log-likelihood function"
   ]
  },
  {
   "cell_type": "code",
   "execution_count": 37,
   "id": "4a992a40",
   "metadata": {},
   "outputs": [],
   "source": [
    "def log_likelihood(beta):\n",
    "    \"\"\"compute the log-likelihood for a binary logit model\"\"\"\n",
    "\n",
    "    #compute mean utility for each observation\n",
    "    V = X @ beta\n",
    "\n",
    "    # logit choice Probabilities\n",
    "    P = np.exp(V) / (1 + np.exp(V))\n",
    "\n",
    "    # avoid log(0)\n",
    "    esp = 1e-12\n",
    "    p = np.clip(P, esp, 1 - esp)\n",
    "\n",
    "    # log-likelihood\n",
    "    logL = y * np.log(p) + (1 - y) * np.log(1 - p)\n",
    "\n",
    "    return -np.sum(logL)  # Negative for minimization   "
   ]
  },
  {
   "cell_type": "code",
   "execution_count": 38,
   "id": "39de1946",
   "metadata": {},
   "outputs": [
    {
     "name": "stdout",
     "output_type": "stream",
     "text": [
      "[-1.55688815 -0.12355455  0.00237812]\n"
     ]
    }
   ],
   "source": [
    "# Initialize parameters\n",
    "beta_init = np.zeros(X.shape[1])\n",
    "\n",
    "# optimize the likelihood\n",
    "result = minimize(log_likelihood, beta_init, method='BFGS')\n",
    "\n",
    "beta = result.x\n",
    "\n",
    "print(beta)"
   ]
  },
  {
   "cell_type": "markdown",
   "id": "59e50831",
   "metadata": {},
   "source": [
    "## Try Probit By Hand"
   ]
  },
  {
   "cell_type": "code",
   "execution_count": 39,
   "id": "df2f5750",
   "metadata": {},
   "outputs": [],
   "source": [
    "from scipy.stats import norm  # Import norm for Probit model"
   ]
  },
  {
   "cell_type": "markdown",
   "id": "e1ad3dc4",
   "metadata": {},
   "source": [
    "Define new likelihood function"
   ]
  },
  {
   "cell_type": "code",
   "execution_count": 40,
   "id": "07399181",
   "metadata": {},
   "outputs": [],
   "source": [
    "def log_likelihood(beta):\n",
    "    \"\"\"compute the log-likelihood for a binary probit model\"\"\"\n",
    "\n",
    "    #compute mean utility for each observation\n",
    "    V = X @ beta\n",
    "\n",
    "    # Probit choice Probabilities\n",
    "    P = norm.cdf(V)\n",
    "\n",
    "    # avoid log(0)\n",
    "    esp = 1e-12\n",
    "    p = np.clip(P, esp, 1 - esp)\n",
    "\n",
    "    # log-likelihood\n",
    "    logL = y * np.log(p) + (1 - y) * np.log(1 - p)\n",
    "\n",
    "    return -np.sum(logL)  # Negative for minimization   "
   ]
  },
  {
   "cell_type": "code",
   "execution_count": 41,
   "id": "c1f34c70",
   "metadata": {},
   "outputs": [
    {
     "name": "stdout",
     "output_type": "stream",
     "text": [
      "[-0.863595   -0.06963015  0.00106199]\n"
     ]
    }
   ],
   "source": [
    "# Initialize parameters\n",
    "beta_init = np.zeros(X.shape[1])\n",
    "\n",
    "# optimize the likelihood\n",
    "result = minimize(log_likelihood, beta_init, method='BFGS')\n",
    "\n",
    "beta = result.x\n",
    "\n",
    "print(beta)"
   ]
  }
 ],
 "metadata": {
  "kernelspec": {
   "display_name": "Python 3",
   "language": "python",
   "name": "python3"
  },
  "language_info": {
   "codemirror_mode": {
    "name": "ipython",
    "version": 3
   },
   "file_extension": ".py",
   "mimetype": "text/x-python",
   "name": "python",
   "nbconvert_exporter": "python",
   "pygments_lexer": "ipython3",
   "version": "3.13.1"
  }
 },
 "nbformat": 4,
 "nbformat_minor": 5
}
