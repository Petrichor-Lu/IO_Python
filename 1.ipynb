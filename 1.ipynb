{
 "cells": [
  {
   "cell_type": "code",
   "execution_count": 64,
   "id": "0de573a9",
   "metadata": {},
   "outputs": [],
   "source": [
    "import numpy as np\n",
    "import pandas as pd\n",
    "import pyblp"
   ]
  },
  {
   "cell_type": "code",
   "execution_count": 65,
   "id": "02dee11d",
   "metadata": {},
   "outputs": [
    {
     "name": "stdout",
     "output_type": "stream",
     "text": [
      "   market_ids  firm_ids                 model   prices  screen_size_in  \\\n",
      "0           1         1  MacBook Pro 14\" (M4)  1606.39            14.0   \n",
      "1           1         1  MacBook Air 13\" (M3)  1091.23            13.3   \n",
      "2           1         2          Inspiron 14\"   700.78            14.0   \n",
      "3           1         5          VivoBook 15\"   636.10            15.6   \n",
      "4           1         5      ROG Zephyrus 15\"  1849.48            15.6   \n",
      "\n",
      "   ram_gb  storage_gb  brand_Apple  brand_Dell  brand_HP  brand_Lenovo  \\\n",
      "0      16         512         True       False     False         False   \n",
      "1       8         256         True       False     False         False   \n",
      "2       8         256        False        True     False         False   \n",
      "3       8         256        False       False     False         False   \n",
      "4      16        1000        False       False     False         False   \n",
      "\n",
      "   os_macOS    shares  nesting_ids  demand_instruments0  demand_instruments1  \\\n",
      "0      True  0.007528            1                   14          1647.859040   \n",
      "1      True  0.013436            1                   14          1136.258891   \n",
      "2     False  0.027943            0                   14           719.446207   \n",
      "3     False  0.027904            0                   14           667.619624   \n",
      "4     False  0.006086            0                   14          1887.566356   \n",
      "\n",
      "   demand_instruments2  \n",
      "0          1618.301543  \n",
      "1          1165.579539  \n",
      "2           658.865942  \n",
      "3           588.341206  \n",
      "4          1891.853887  \n"
     ]
    }
   ],
   "source": [
    "df = pd.read_csv('/Users/terrylu/Desktop/UF/Courses/2025-2026/IO/IO_Code/data/laptop_data.csv')\n",
    "\n",
    "print(df.head(5))"
   ]
  },
  {
   "cell_type": "code",
   "execution_count": 66,
   "id": "27a13885",
   "metadata": {},
   "outputs": [
    {
     "name": "stdout",
     "output_type": "stream",
     "text": [
      "Initializing the problem ...\n",
      "Initialized the problem after 00:00:00.\n",
      "\n",
      "Dimensions:\n",
      "==========================\n",
      " T    N     F    K1    MD \n",
      "---  ----  ---  ----  ----\n",
      "200  2196   5    5     7  \n",
      "==========================\n",
      "\n",
      "Formulations:\n",
      "===========================================================================\n",
      "     Column Indices:         0     1           2           3         4     \n",
      "--------------------------  ---  ------  --------------  ------  ----------\n",
      "X1: Linear Characteristics   1   prices  screen_size_in  ram_gb  storage_gb\n",
      "===========================================================================\n"
     ]
    }
   ],
   "source": [
    "# prepping data for pyblp\n",
    "product_data = df.drop(columns=['nesting_ids']).copy()\n",
    "# pyblp expects: market_id, product_id, prices\n",
    "# product characteristics, demand, instruments\n",
    "\n",
    "#simple (agg market share) logit\n",
    "logit_formulation = pyblp.Formulation(\n",
    "    \"1+ prices + screen_size_in + ram_gb + storage_gb\"\n",
    ")\n",
    "\n",
    "problem_logit = pyblp.Problem(\n",
    "    logit_formulation,\n",
    "    product_data\n",
    ")"
   ]
  },
  {
   "cell_type": "markdown",
   "id": "0c855501",
   "metadata": {},
   "source": [
    "T = 200\n",
    "\n",
    "市场的数量（number of markets）。\n",
    "\n",
    "也就是你有 200 个不同的 market_id，比如不同地区、季度组合。\n",
    "\n",
    "N = 2196\n",
    "\n",
    "产品-市场观测值的总数（total product-market observations）。\n",
    "\n",
    "每一行数据代表某个产品在某个市场的情况。\n",
    "\n",
    "平均下来 = 2196 ÷ 200 ≈ 11 个产品/市场。\n",
    "\n",
    "F = 5\n",
    "\n",
    "产品特征（features）的数量，包括截距（intercept）。\n",
    "\n",
    "这里是：1 (常数项) + prices + screen_size_in + ram_gb + storage_gb。\n",
    "\n",
    "K1 = 5\n",
    "\n",
    "线性效用中的参数数量（linear characteristics）。\n",
    "\n",
    "和 F 一致，因为你没有额外的 non-linear terms 或 random coefficients。\n",
    "\n",
    "MD = 7\n",
    "\n",
    "工具变量和额外矩条件（moment dimensions）的数量。\n",
    "\n",
    "pyblp 默认会自动生成一些 instruments，比如价格、特征、以及它们的函数。"
   ]
  },
  {
   "cell_type": "code",
   "execution_count": 67,
   "id": "2671542e",
   "metadata": {},
   "outputs": [
    {
     "name": "stdout",
     "output_type": "stream",
     "text": [
      "Solving the problem ...\n",
      "Updating the weighting matrix ...\n",
      "Computed results after 00:00:00.\n",
      "\n",
      "Problem Results Summary:\n",
      "=================================================================\n",
      "GMM     Objective    Clipped  Weighting Matrix  Covariance Matrix\n",
      "Step      Value      Shares   Condition Number  Condition Number \n",
      "----  -------------  -------  ----------------  -----------------\n",
      " 1    +8.013112E+01     0      +1.857417E+09      +7.712179E+08  \n",
      "=================================================================\n",
      "\n",
      "Estimating standard errors ...\n",
      "Computed results after 00:00:00.\n",
      "\n",
      "Problem Results Summary:\n",
      "=================================================================\n",
      "GMM     Objective    Clipped  Weighting Matrix  Covariance Matrix\n",
      "Step      Value      Shares   Condition Number  Condition Number \n",
      "----  -------------  -------  ----------------  -----------------\n",
      " 2    +1.189330E+03     0      +2.230494E+09      +1.758367E+09  \n",
      "=================================================================\n",
      "\n",
      "Cumulative Statistics:\n",
      "========================\n",
      "Computation   Objective \n",
      "   Time      Evaluations\n",
      "-----------  -----------\n",
      " 00:00:00         2     \n",
      "========================\n",
      "\n",
      "Beta Estimates (Robust SEs in Parentheses):\n",
      "===================================================================================\n",
      "       1             prices       screen_size_in       ram_gb         storage_gb   \n",
      "---------------  ---------------  ---------------  ---------------  ---------------\n",
      " -2.209660E+00    -1.842701E-03    +7.800004E-03    -3.331786E-04    +1.032387E-03 \n",
      "(+1.110494E-01)  (+1.770974E-05)  (+6.997076E-03)  (+3.149926E-03)  (+3.408109E-05)\n",
      "===================================================================================\n"
     ]
    }
   ],
   "source": [
    "#estimate logit\n",
    "\n",
    "results_logit = problem_logit.solve()"
   ]
  },
  {
   "cell_type": "markdown",
   "id": "814b2484",
   "metadata": {},
   "source": [
    "why does ram_gb have a negative coefficient?\n",
    "\n",
    "sicne this may related to brand. for example, apple macbook has low ram but high price."
   ]
  },
  {
   "cell_type": "code",
   "execution_count": 68,
   "id": "a9d92205",
   "metadata": {},
   "outputs": [
    {
     "name": "stdout",
     "output_type": "stream",
     "text": [
      "Initializing the problem ...\n"
     ]
    },
    {
     "name": "stdout",
     "output_type": "stream",
     "text": [
      "Initialized the problem after 00:00:00.\n",
      "\n",
      "Dimensions:\n",
      "==========================\n",
      " T    N     F    K1    MD \n",
      "---  ----  ---  ----  ----\n",
      "200  2196   5    9     11 \n",
      "==========================\n",
      "\n",
      "Formulations:\n",
      "====================================================================================================================================================\n",
      "     Column Indices:         0     1           2           3         4             5                 6                 7                  8         \n",
      "--------------------------  ---  ------  --------------  ------  ----------  --------------  -----------------  ----------------  ------------------\n",
      "X1: Linear Characteristics   1   prices  screen_size_in  ram_gb  storage_gb  brand_HP[True]  brand_Apple[True]  brand_Dell[True]  brand_Lenovo[True]\n",
      "====================================================================================================================================================\n"
     ]
    }
   ],
   "source": [
    "# logit with dummies (ASUS is baseline)\n",
    "logit_formulation_2 = pyblp.Formulation(\n",
    "    \"1+ prices + screen_size_in + ram_gb + storage_gb\" \\\n",
    "    \"+ brand_HP + brand_Apple + brand_Dell + brand_Lenovo\"\n",
    ")\n",
    "\n",
    "problem_logit_2 = pyblp.Problem(\n",
    "    logit_formulation_2,\n",
    "    product_data\n",
    ")\n",
    "\n",
    "# ❌ ASUS/Microsoft ≠ outside option。\n",
    "\n",
    "# ✅ 它们只是基准品牌，效用差异通过其他 dummy 相对估计。\n",
    "\n",
    "# 真正的 outside option 是单独的一行记录（通常 market share = 1 − Σ inside shares）。\n",
    "\n",
    "# differnent of baseline and outside option: baseline is just a reference category for categorical variables, while outside option represents the choice of not selecting any of the available products.\n",
    "# we care compare the utility of different products relative to the baseline, not relative to the outside option."
   ]
  },
  {
   "cell_type": "code",
   "execution_count": 69,
   "id": "7ec23032",
   "metadata": {},
   "outputs": [
    {
     "name": "stdout",
     "output_type": "stream",
     "text": [
      "Solving the problem ...\n",
      "Updating the weighting matrix ...\n",
      "Computed results after 00:00:00.\n",
      "\n",
      "Problem Results Summary:\n",
      "=================================================================\n",
      "GMM     Objective    Clipped  Weighting Matrix  Covariance Matrix\n",
      "Step      Value      Shares   Condition Number  Condition Number \n",
      "----  -------------  -------  ----------------  -----------------\n",
      " 1    +7.950784E+01     0      +2.653301E+09      +1.315120E+09  \n",
      "=================================================================\n",
      "\n",
      "Estimating standard errors ...\n",
      "Computed results after 00:00:00.\n",
      "\n",
      "Problem Results Summary:\n",
      "=================================================================\n",
      "GMM     Objective    Clipped  Weighting Matrix  Covariance Matrix\n",
      "Step      Value      Shares   Condition Number  Condition Number \n",
      "----  -------------  -------  ----------------  -----------------\n",
      " 2    +1.307044E+03     0      +2.875925E+09      +3.872637E+09  \n",
      "=================================================================\n",
      "\n",
      "Cumulative Statistics:\n",
      "========================\n",
      "Computation   Objective \n",
      "   Time      Evaluations\n",
      "-----------  -----------\n",
      " 00:00:00         2     \n",
      "========================\n",
      "\n",
      "Beta Estimates (Robust SEs in Parentheses):\n",
      "=============================================================================================================================================================\n",
      "       1             prices       screen_size_in       ram_gb         storage_gb     brand_HP[True]   brand_Apple[True]  brand_Dell[True]  brand_Lenovo[True]\n",
      "---------------  ---------------  ---------------  ---------------  ---------------  ---------------  -----------------  ----------------  ------------------\n",
      " -3.211238E+00    -1.994877E-03    +6.049536E-02    +1.725538E-02    +1.038012E-03    +2.039773E-01     +3.119381E-01     +2.198873E-01      +1.676565E-01   \n",
      "(+1.359851E-01)  (+2.852719E-05)  (+8.227916E-03)  (+4.106875E-03)  (+3.555665E-05)  (+1.810972E-02)   (+2.516369E-02)   (+1.911120E-02)    (+1.713670E-02)  \n",
      "=============================================================================================================================================================\n"
     ]
    }
   ],
   "source": [
    "results_logit_2 = problem_logit_2.solve()"
   ]
  },
  {
   "cell_type": "code",
   "execution_count": 70,
   "id": "2861f0f1",
   "metadata": {},
   "outputs": [
    {
     "name": "stdout",
     "output_type": "stream",
     "text": [
      "-8.649846582019844\n"
     ]
    }
   ],
   "source": [
    "diff = +1.725538E-02 / -1.994877E-03\n",
    "print(diff)  "
   ]
  },
  {
   "cell_type": "markdown",
   "id": "d0a06e2d",
   "metadata": {},
   "source": [
    "this diff = +1.725538E-02 / -1.994877E-03 = -8.649846582019844\n",
    "\n",
    "means:\n",
    "\n",
    "for one unit increase in ram_gb, the price will decrease by 8.649846582019844 unit, holding other features constant."
   ]
  },
  {
   "cell_type": "code",
   "execution_count": 71,
   "id": "61f5007c",
   "metadata": {},
   "outputs": [
    {
     "data": {
      "text/plain": [
       "array([[ 6.14108461e+00,  1.79277597e-03, -2.25501237e-04,\n",
       "        -4.92434011e+01, -9.38559234e-01, -6.50440115e-02,\n",
       "         2.53277006e-04,  8.64426066e-02, -1.10853395e+00,\n",
       "        -4.70334178e-01, -4.53079698e-01],\n",
       "       [ 1.79277597e-03,  2.60302414e-03, -2.29170064e-03,\n",
       "         5.70229280e-01, -3.50338655e-02, -4.12146149e-02,\n",
       "         1.46535725e-04,  3.08764391e-02, -1.16783258e-01,\n",
       "        -1.47300373e-02,  6.22732727e-02],\n",
       "       [-2.25501237e-04, -2.29170064e-03,  2.43414364e-03,\n",
       "         7.54985668e-01, -4.78707193e-02, -5.63288478e-03,\n",
       "        -1.94424173e-04,  1.36365892e-02, -1.51554808e-01,\n",
       "        -5.34776247e-02, -9.81648217e-02],\n",
       "       [-4.92434011e+01,  5.70229280e-01,  7.54985668e-01,\n",
       "         1.19930793e+04, -7.03265303e+02, -2.23030481e+02,\n",
       "         8.77845992e-01, -1.87641860e+02, -1.00335597e+03,\n",
       "        -5.77848131e+02, -3.04431333e+02],\n",
       "       [-9.38559234e-01, -3.50338655e-02, -4.78707193e-02,\n",
       "        -7.03265303e+02,  4.52926389e+01,  1.25579663e+01,\n",
       "        -5.53337934e-02,  5.67579399e+00,  5.64566686e+01,\n",
       "         3.10590703e+01,  1.40329203e+01],\n",
       "       [-6.50440115e-02, -4.12146149e-02, -5.63288478e-03,\n",
       "        -2.23030481e+02,  1.25579663e+01,  8.52150063e+00,\n",
       "        -3.64511131e-02, -3.33640299e+00,  2.37642834e+01,\n",
       "         8.98044446e+00, -2.11783845e+00],\n",
       "       [ 2.53277006e-04,  1.46535725e-04, -1.94424173e-04,\n",
       "         8.77845992e-01, -5.53337934e-02, -3.64511131e-02,\n",
       "         8.12906981e-04, -6.15153669e-03,  1.37813889e-01,\n",
       "        -2.35347116e-02,  1.24488101e-01],\n",
       "       [ 8.64426066e-02,  3.08764391e-02,  1.36365892e-02,\n",
       "        -1.87641860e+02,  5.67579399e+00, -3.33640299e+00,\n",
       "        -6.15153669e-03,  2.06647211e+02,  7.68508661e+01,\n",
       "         9.61306589e+01,  9.93338237e+01],\n",
       "       [-1.10853395e+00, -1.16783258e-01, -1.51554808e-01,\n",
       "        -1.00335597e+03,  5.64566686e+01,  2.37642834e+01,\n",
       "         1.37813889e-01,  7.68508661e+01,  3.65939852e+02,\n",
       "         1.40731838e+02,  1.42874151e+02],\n",
       "       [-4.70334178e-01, -1.47300373e-02, -5.34776247e-02,\n",
       "        -5.77848131e+02,  3.10590703e+01,  8.98044446e+00,\n",
       "        -2.35347116e-02,  9.61306589e+01,  1.40731838e+02,\n",
       "         2.07160091e+02,  1.06152563e+02],\n",
       "       [-4.53079698e-01,  6.22732727e-02, -9.81648217e-02,\n",
       "        -3.04431333e+02,  1.40329203e+01, -2.11783845e+00,\n",
       "         1.24488101e-01,  9.93338237e+01,  1.42874151e+02,\n",
       "         1.06152563e+02,  2.26351502e+02]])"
      ]
     },
     "execution_count": 71,
     "metadata": {},
     "output_type": "execute_result"
    }
   ],
   "source": [
    "results_logit_2.beta\n",
    "results_logit_2.delta\n",
    "results_logit_2.xi\n",
    "results_logit_2.W\n",
    "# results_logit_2......."
   ]
  },
  {
   "cell_type": "code",
   "execution_count": 72,
   "id": "68d2ab33",
   "metadata": {},
   "outputs": [
    {
     "name": "stdout",
     "output_type": "stream",
     "text": [
      "Computing elasticities with respect to prices ...\n"
     ]
    },
    {
     "name": "stdout",
     "output_type": "stream",
     "text": [
      "Finished after 00:00:01.\n",
      "\n"
     ]
    }
   ],
   "source": [
    "#compate elasticities\n",
    "elasticities_logit = results_logit_2.compute_elasticities()"
   ]
  },
  {
   "cell_type": "code",
   "execution_count": 73,
   "id": "da1712ab",
   "metadata": {},
   "outputs": [
    {
     "name": "stdout",
     "output_type": "stream",
     "text": [
      "(2196, 14)\n",
      "[[-3.18042631  0.02924826  0.03906406  0.03540878  0.02245479  0.04272027\n",
      "   0.04294751  0.0314521   0.00792754  0.07517989]\n",
      " [ 0.02412344 -2.14762088  0.03906406  0.03540878  0.02245479  0.04272027\n",
      "   0.04294751  0.0314521   0.00792754  0.07517989]\n",
      " [ 0.02412344  0.02924826 -1.35890554  0.03540878  0.02245479  0.04272027\n",
      "   0.04294751  0.0314521   0.00792754  0.07517989]\n",
      " [ 0.02412344  0.02924826  0.03906406 -1.2335322   0.02245479  0.04272027\n",
      "   0.04294751  0.0314521   0.00792754  0.07517989]\n",
      " [ 0.02412344  0.02924826  0.03906406  0.03540878 -3.66702951  0.04272027\n",
      "   0.04294751  0.0314521   0.00792754  0.07517989]\n",
      " [ 0.02412344  0.02924826  0.03906406  0.03540878  0.02245479 -0.94885308\n",
      "   0.04294751  0.0314521   0.00792754  0.07517989]\n",
      " [ 0.02412344  0.02924826  0.03906406  0.03540878  0.02245479  0.04272027\n",
      "  -1.26812526  0.0314521   0.00792754  0.07517989]\n",
      " [ 0.02412344  0.02924826  0.03906406  0.03540878  0.02245479  0.04272027\n",
      "   0.04294751 -2.55821685  0.00792754  0.07517989]\n",
      " [ 0.02412344  0.02924826  0.03906406  0.03540878  0.02245479  0.04272027\n",
      "   0.04294751  0.0314521  -4.81388858  0.07517989]\n",
      " [ 0.02412344  0.02924826  0.03906406  0.03540878  0.02245479  0.04272027\n",
      "   0.04294751  0.0314521   0.00792754 -1.91624554]]\n"
     ]
    }
   ],
   "source": [
    "# 矩阵的维度\n",
    "print(elasticities_logit.shape)\n",
    "\n",
    "# 前 5 行、前 5 列\n",
    "print(elasticities_logit[:10, :10])\n"
   ]
  },
  {
   "cell_type": "markdown",
   "id": "db8d7fef",
   "metadata": {},
   "source": [
    "么读这些数值？\n",
    "1. Own-price elasticity（对角线）\n",
    "\n",
    "例如第一行第一列：-3.18042631\n",
    "→ 这是 产品1 对自己价格的弹性。\n",
    "→ 负值（正常现象），说明提价会导致需求下降。\n",
    "→ 大小（约 -3.18）表示价格上升 1%，需求下降约 3.18%。\n",
    "\n",
    "2. Cross-price elasticity（非对角线）\n",
    "\n",
    "例如第一行第二列：0.0294826\n",
    "→ 这是 产品1 的需求 对 产品2 价格 的敏感度。\n",
    "→ 正值 → 说明产品1 和产品2 是 替代品（对方价格上涨 → 自己销量上升）。\n",
    "→ 如果出现负的交叉项，可能表示互补关系。\n",
    "\n",
    "3. 范围解释\n",
    "\n",
    "一般 own-price elasticity 应该 < -1（需求对价格敏感）。\n",
    "\n",
    "Cross-price elasticity 通常比较小（0.01 ~ 0.1 级别），但能反映竞争关系。\n",
    "\n",
    "🔹 你的矩阵具体例子\n",
    "\n",
    "第 2 行第 2 列：-2.14762088\n",
    "→ 产品2 的 own-price elasticity，大约 -2.15。\n",
    "\n",
    "第 2 行第 3 列：0.03906406\n",
    "→ 产品2 的需求对产品3 价格的敏感度（正，替代品）。\n",
    "\n",
    "第 6 行第 6 列：-0.94885308\n",
    "→ 产品6 own-price elasticity，约 -0.95（小于 1，说明需求比较缺乏弹性）。\n",
    "\n",
    "第 9 行第 9 列：-4.81388858\n",
    "→ 产品9 own-price elasticity，非常有弹性（价格稍微上涨，销量就大幅下降）。\n",
    "\n",
    "✅ 总结一句话：\n",
    "\n",
    "对角线（负数）： 每个产品对自己价格的弹性（own-price elasticity）。\n",
    "\n",
    "非对角线（多为小正数）： 产品之间的替代效应（cross-price elasticity）。\n",
    "\n",
    "数值大小 → 竞争强度，符号 → 替代还是互补。"
   ]
  },
  {
   "cell_type": "code",
   "execution_count": 74,
   "id": "a43b18cf",
   "metadata": {},
   "outputs": [
    {
     "data": {
      "text/plain": [
       "array([-3.18042631, -2.14762088, -1.35890554, -1.2335322 , -3.66702951])"
      ]
     },
     "execution_count": 74,
     "metadata": {},
     "output_type": "execute_result"
    }
   ],
   "source": [
    "np.diag(elasticities_logit)[:5]"
   ]
  },
  {
   "cell_type": "code",
   "execution_count": 75,
   "id": "72d4b520",
   "metadata": {},
   "outputs": [
    {
     "name": "stdout",
     "output_type": "stream",
     "text": [
      "Computing marginal costs ...\n"
     ]
    },
    {
     "name": "stdout",
     "output_type": "stream",
     "text": [
      "Finished after 00:00:00.\n",
      "\n",
      "[[1093.51072591]\n",
      " [ 578.35072591]\n",
      " [ 180.61448052]\n",
      " [ 110.36884162]\n",
      " [1323.74884162]]\n"
     ]
    }
   ],
   "source": [
    "# compute Marginal costs\n",
    "marginal_costs_logit = results_logit_2.compute_costs()\n",
    "print(marginal_costs_logit[:5])"
   ]
  },
  {
   "cell_type": "markdown",
   "id": "88f434a4",
   "metadata": {},
   "source": []
  },
  {
   "cell_type": "markdown",
   "metadata": {},
   "source": []
  },
  {
   "cell_type": "markdown",
   "id": "801e6983",
   "metadata": {},
   "source": [
    "### Cereal Data"
   ]
  },
  {
   "cell_type": "code",
   "execution_count": 76,
   "id": "7a5c4893",
   "metadata": {},
   "outputs": [],
   "source": [
    "product_data = pd.read_csv(pyblp.data.NEVO_PRODUCTS_LOCATION)"
   ]
  },
  {
   "cell_type": "code",
   "execution_count": null,
   "id": "e6451b5f",
   "metadata": {},
   "outputs": [
    {
     "data": {
      "text/plain": [
       "prices + Absorb[C(product_ids)]"
      ]
     },
     "execution_count": 83,
     "metadata": {},
     "output_type": "execute_result"
    }
   ],
   "source": [
    "logit_formulation_cereal = pyblp.Formulation('prices',\n",
    "                                             absorb = 'C(product_ids)' # absorb product fixed effects of each cereal\n",
    "# here, product_ids is the column name in the dataset that contains the unique identifiers for each cereal product.\n",
    "# we control for unobserved product-specific factors that might influence demand, such as brand loyalty or unique product features, by including these fixed effects.\n",
    "# only variation within each product is used to estimate the effect of price on market share. \n",
    ")\n",
    "\n",
    "logit_formulation_cereal"
   ]
  },
  {
   "cell_type": "code",
   "execution_count": 84,
   "id": "5ee185a6",
   "metadata": {},
   "outputs": [
    {
     "name": "stdout",
     "output_type": "stream",
     "text": [
      "Initializing the problem ...\n",
      "Absorbing demand-side fixed effects ...\n",
      "Initialized the problem after 00:00:00.\n",
      "\n",
      "Dimensions:\n",
      "================================\n",
      " T    N     F    K1    MD    ED \n",
      "---  ----  ---  ----  ----  ----\n",
      "94   2256   5    1     20    1  \n",
      "================================\n",
      "\n",
      "Formulations:\n",
      "==================================\n",
      "     Column Indices:          0   \n",
      "--------------------------  ------\n",
      "X1: Linear Characteristics  prices\n",
      "==================================\n"
     ]
    }
   ],
   "source": [
    "problem = pyblp.Problem(logit_formulation_cereal, product_data)"
   ]
  },
  {
   "cell_type": "code",
   "execution_count": 90,
   "id": "15ef7be1",
   "metadata": {},
   "outputs": [
    {
     "name": "stdout",
     "output_type": "stream",
     "text": [
      "Solving the problem ...\n",
      "Updating the weighting matrix ...\n",
      "Computed results after 00:00:00.\n",
      "\n",
      "Problem Results Summary:\n",
      "==============================================\n",
      "GMM     Objective    Clipped  Weighting Matrix\n",
      "Step      Value      Shares   Condition Number\n",
      "----  -------------  -------  ----------------\n",
      " 1    +1.899432E+02     0      +6.927228E+07  \n",
      "==============================================\n",
      "\n",
      "Estimating standard errors ...\n",
      "Computed results after 00:00:00.\n",
      "\n",
      "Problem Results Summary:\n",
      "==============================================\n",
      "GMM     Objective    Clipped  Weighting Matrix\n",
      "Step      Value      Shares   Condition Number\n",
      "----  -------------  -------  ----------------\n",
      " 2    +1.874555E+02     0      +5.682065E+07  \n",
      "==============================================\n",
      "\n",
      "Cumulative Statistics:\n",
      "========================\n",
      "Computation   Objective \n",
      "   Time      Evaluations\n",
      "-----------  -----------\n",
      " 00:00:00         2     \n",
      "========================\n",
      "\n",
      "Beta Estimates (Robust SEs in Parentheses):\n",
      "===============\n",
      "    prices     \n",
      "---------------\n",
      " -3.004710E+01 \n",
      "(+1.008589E+00)\n",
      "===============\n"
     ]
    }
   ],
   "source": [
    "logit_results_cereal = problem.solve()"
   ]
  },
  {
   "cell_type": "code",
   "execution_count": 93,
   "id": "f998766c",
   "metadata": {},
   "outputs": [
    {
     "name": "stdout",
     "output_type": "stream",
     "text": [
      "Computing shares ...\n",
      "Finished after 00:00:00.\n",
      "\n",
      "Computing shares ...\n",
      "Finished after 00:00:00.\n",
      "\n"
     ]
    },
    {
     "data": {
      "text/plain": [
       "array([[0.01163712],\n",
       "       [0.00644931],\n",
       "       [0.01015992],\n",
       "       [0.00453914],\n",
       "       [0.01310805]])"
      ]
     },
     "execution_count": 93,
     "metadata": {},
     "output_type": "execute_result"
    }
   ],
   "source": [
    "# counterfatual shares\n",
    "logit_results_cereal.compute_shares(prices = product_data['prices'])[0:5]\n",
    "logit_results_cereal.compute_shares(prices = product_data['prices']*1.1)[0:5]"
   ]
  },
  {
   "cell_type": "code",
   "execution_count": 99,
   "id": "f48fe64e",
   "metadata": {},
   "outputs": [
    {
     "name": "stdout",
     "output_type": "stream",
     "text": [
      "Initializing the problem ...\n",
      "Initialized the problem after 00:00:00.\n",
      "\n",
      "Dimensions:\n",
      "===============================\n",
      " T    N     F    K1    MD    H \n",
      "---  ----  ---  ----  ----  ---\n",
      "94   2256   5    1     21    1 \n",
      "===============================\n",
      "\n",
      "Formulations:\n",
      "==================================\n",
      "     Column Indices:          0   \n",
      "--------------------------  ------\n",
      "X1: Linear Characteristics  prices\n",
      "==================================\n"
     ]
    }
   ],
   "source": [
    "# Nested Logit\n",
    "product_data1 = product_data.copy()\n",
    "product_data1['nesting_ids'] = 1  # all cereals in the same nest, the outside option is nest 0\n",
    "\n",
    "groups = product_data1.groupby(['market_ids','nesting_ids'])\n",
    "product_data1['demand_instruments20'] = groups['shares'].transform(np.size) # number of products in each nest within each market\n",
    "nl_formaulation = pyblp.Formulation('0 + prices')\n",
    "problem = pyblp.Problem(nl_formaulation, product_data1)\n",
    "\n",
    "\n",
    "\n",
    "\n"
   ]
  },
  {
   "cell_type": "code",
   "execution_count": 102,
   "id": "f587466a",
   "metadata": {},
   "outputs": [
    {
     "name": "stdout",
     "output_type": "stream",
     "text": [
      "Solving the problem ...\n",
      "\n",
      "Rho Initial Values:\n",
      "=============\n",
      " All Groups  \n",
      "-------------\n",
      "+7.000000E-01\n",
      "=============\n",
      "\n",
      "Rho Lower Bounds:\n",
      "=============\n",
      " All Groups  \n",
      "-------------\n",
      "+0.000000E+00\n",
      "=============\n",
      "\n",
      "Rho Upper Bounds:\n",
      "=============\n",
      " All Groups  \n",
      "-------------\n",
      "+9.900000E-01\n",
      "=============\n",
      "\n",
      "Starting optimization ...\n",
      "\n"
     ]
    },
    {
     "name": "stdout",
     "output_type": "stream",
     "text": [
      "GMM   Computation  Optimization   Objective   Fixed Point  Contraction  Clipped    Objective      Objective      Projected                 \n",
      "Step     Time       Iterations   Evaluations  Iterations   Evaluations  Shares       Value       Improvement   Gradient Norm      Theta    \n",
      "----  -----------  ------------  -----------  -----------  -----------  -------  -------------  -------------  -------------  -------------\n",
      " 1     00:00:00         0             1            0            0          0     +1.331657E+02                 +6.086235E+02  +7.000000E-01\n",
      " 1     00:00:00         0             2            0            0          0     +4.727024E+01  +8.589549E+01  +1.624078E+01  +9.900000E-01\n",
      " 1     00:00:00         1             3            0            0          0     +4.720903E+01  +6.120631E-02  +1.143692E-10  +9.824626E-01\n",
      "\n",
      "Optimization completed after 00:00:01.\n",
      "Computing the Hessian and updating the weighting matrix ...\n",
      "Computed results after 00:00:00.\n",
      "\n",
      "Problem Results Summary:\n",
      "===============================================================================================\n",
      "GMM     Objective      Projected       Reduced     Clipped  Weighting Matrix  Covariance Matrix\n",
      "Step      Value      Gradient Norm     Hessian     Shares   Condition Number  Condition Number \n",
      "----  -------------  -------------  -------------  -------  ----------------  -----------------\n",
      " 1    +4.720903E+01  +1.143692E-10  +2.154696E+03     0      +1.995627E+09      +2.467900E+04  \n",
      "===============================================================================================\n",
      "\n",
      "Starting optimization ...\n",
      "\n",
      "GMM   Computation  Optimization   Objective   Fixed Point  Contraction  Clipped    Objective      Objective      Projected                 \n",
      "Step     Time       Iterations   Evaluations  Iterations   Evaluations  Shares       Value       Improvement   Gradient Norm      Theta    \n",
      "----  -----------  ------------  -----------  -----------  -----------  -------  -------------  -------------  -------------  -------------\n",
      " 2     00:00:00         0             1            0            0          0     +2.032711E+02                 +1.368046E+00  +9.824626E-01\n",
      " 2     00:00:00         0             2            0            0          0     +2.035660E+02                 +7.961020E+01  +9.900000E-01\n",
      " 2     00:00:00         0             3            0            0          0     +2.032711E+02  +8.710079E-05  +8.277912E-10  +9.825900E-01\n",
      "\n",
      "Optimization completed after 00:00:01.\n",
      "Computing the Hessian and estimating standard errors ...\n",
      "Computed results after 00:00:00.\n",
      "\n",
      "Problem Results Summary:\n",
      "===============================================================================================\n",
      "GMM     Objective      Projected       Reduced     Clipped  Weighting Matrix  Covariance Matrix\n",
      "Step      Value      Gradient Norm     Hessian     Shares   Condition Number  Condition Number \n",
      "----  -------------  -------------  -------------  -------  ----------------  -----------------\n",
      " 2    +2.032711E+02  +8.277912E-10  +1.074335E+04     0      +2.004550E+09      +3.028074E+04  \n",
      "===============================================================================================\n",
      "\n",
      "Cumulative Statistics:\n",
      "=================================================\n",
      "Computation  Optimizer  Optimization   Objective \n",
      "   Time      Converged   Iterations   Evaluations\n",
      "-----------  ---------  ------------  -----------\n",
      " 00:00:02       Yes          3             8     \n",
      "=================================================\n",
      "\n",
      "Rho Estimates (Robust SEs in Parentheses):\n",
      "===============\n",
      "  All Groups   \n",
      "---------------\n",
      " +9.825900E-01 \n",
      "(+1.357591E-02)\n",
      "===============\n",
      "\n",
      "Beta Estimates (Robust SEs in Parentheses):\n",
      "===============\n",
      "    prices     \n",
      "---------------\n",
      " -1.173321E+00 \n",
      "(+3.971345E-01)\n",
      "===============\n"
     ]
    }
   ],
   "source": [
    "nl_results = problem.solve(rho = .7)    # rho is the within-nest correlation, we used rammda in the chalss."
   ]
  },
  {
   "cell_type": "code",
   "execution_count": null,
   "id": "9f4b37b9",
   "metadata": {},
   "outputs": [
    {
     "name": "stdout",
     "output_type": "stream",
     "text": [
      "Initializing the problem ...\n",
      "Initialized the problem after 00:00:00.\n",
      "\n",
      "Dimensions:\n",
      "===============================\n",
      " T    N     F    K1    MD    H \n",
      "---  ----  ---  ----  ----  ---\n",
      "94   2256   5    1     21    2 \n",
      "===============================\n",
      "\n",
      "Formulations:\n",
      "==================================\n",
      "     Column Indices:          0   \n",
      "--------------------------  ------\n",
      "X1: Linear Characteristics  prices\n",
      "==================================\n",
      "Solving the problem ...\n",
      "\n",
      "Rho Initial Values:\n",
      "=============\n",
      " All Groups  \n",
      "-------------\n",
      "+7.000000E-01\n",
      "=============\n",
      "\n",
      "Rho Lower Bounds:\n",
      "=============\n",
      " All Groups  \n",
      "-------------\n",
      "+0.000000E+00\n",
      "=============\n",
      "\n",
      "Rho Upper Bounds:\n",
      "=============\n",
      " All Groups  \n",
      "-------------\n",
      "+9.900000E-01\n",
      "=============\n",
      "\n",
      "Starting optimization ...\n",
      "\n",
      "GMM   Computation  Optimization   Objective   Fixed Point  Contraction  Clipped    Objective      Objective      Projected                 \n",
      "Step     Time       Iterations   Evaluations  Iterations   Evaluations  Shares       Value       Improvement   Gradient Norm      Theta    \n",
      "----  -----------  ------------  -----------  -----------  -----------  -------  -------------  -------------  -------------  -------------\n",
      " 1     00:00:00         0             1            0            0          0     +3.552328E+02                 +4.602606E+02  +7.000000E-01\n",
      " 1     00:00:00         0             2            0            0          0     +2.980378E+02  +5.719504E+01  +6.581208E+01  +9.900000E-01\n",
      " 1     00:00:00         1             3            0            0          0     +2.968440E+02  +1.193805E+00  +1.839863E-09  +9.537208E-01\n",
      "\n",
      "Optimization completed after 00:00:01.\n",
      "Computing the Hessian and updating the weighting matrix ...\n",
      "Computed results after 00:00:01.\n",
      "\n",
      "Problem Results Summary:\n",
      "===============================================================================================\n",
      "GMM     Objective      Projected       Reduced     Clipped  Weighting Matrix  Covariance Matrix\n",
      "Step      Value      Gradient Norm     Hessian     Shares   Condition Number  Condition Number \n",
      "----  -------------  -------------  -------------  -------  ----------------  -----------------\n",
      " 1    +2.968440E+02  +1.839863E-09  +1.814179E+03     0      +6.747991E+08      +1.667948E+04  \n",
      "===============================================================================================\n",
      "\n",
      "Starting optimization ...\n",
      "\n",
      "GMM   Computation  Optimization   Objective   Fixed Point  Contraction  Clipped    Objective      Objective      Projected                 \n",
      "Step     Time       Iterations   Evaluations  Iterations   Evaluations  Shares       Value       Improvement   Gradient Norm      Theta    \n",
      "----  -----------  ------------  -----------  -----------  -----------  -------  -------------  -------------  -------------  -------------\n",
      " 2     00:00:00         0             1            0            0          0     +7.011045E+02                 +3.488322E+02  +9.537208E-01\n",
      " 2     00:00:00         0             2            0            0          0     +2.919897E+03                 +5.001750E+03  +0.000000E+00\n",
      " 2     00:00:00         0             3            0            0          0     +6.902597E+02  +1.084484E+01  +2.010280E-08  +8.915428E-01\n",
      " 2     00:00:00         1             4            0            0          0     +6.902597E+02                 +1.420144E-09  +8.915428E-01\n",
      " 2     00:00:00         1             5            0            0          0     +6.902597E+02                 +2.010280E-08  +8.915428E-01\n",
      " 2     00:00:00         1             6            0            0          0     +6.902597E+02                 +9.224173E-09  +8.915428E-01\n",
      " 2     00:00:00         1             7            0            0          0     +6.902597E+02                 +2.010280E-08  +8.915428E-01\n",
      " 2     00:00:00         1             8            0            0          0     +6.902597E+02                 +1.673365E-08  +8.915428E-01\n",
      " 2     00:00:00         1             9            0            0          0     +6.902597E+02                 +2.010280E-08  +8.915428E-01\n",
      " 2     00:00:00         1            10            0            0          0     +6.902597E+02                 +1.929067E-08  +8.915428E-01\n",
      " 2     00:00:00         1            11            0            0          0     +6.902597E+02                 +2.010280E-08  +8.915428E-01\n",
      " 2     00:00:00         1            12            0            0          0     +6.902597E+02                 +1.792800E-08  +8.915428E-01\n",
      " 2     00:00:00         1            13            0            0          0     +6.902597E+02                 +2.010280E-08  +8.915428E-01\n",
      " 2     00:00:00         1            14            0            0          0     +6.902597E+02                 +1.981877E-08  +8.915428E-01\n",
      " 2     00:00:00         1            15            0            0          0     +6.902597E+02                 +2.010280E-08  +8.915428E-01\n",
      " 2     00:00:00         1            16            0            0          0     +6.902597E+02                 +1.831460E-08  +8.915428E-01\n",
      " 2     00:00:00         1            17            0            0          0     +6.902597E+02                 +2.010280E-08  +8.915428E-01\n",
      " 2     00:00:00         1            18            0            0          0     +6.902597E+02                 +1.127630E-04  +8.915428E-01\n",
      " 2     00:00:00         1            19            0            0          0     +6.902597E+02                 +2.027099E-08  +8.915428E-01\n",
      " 2     00:00:00         1            20            0            0          0     +6.902597E+02                 +2.010280E-08  +8.915428E-01\n",
      " 2     00:00:00         1            21            0            0          0     +6.902597E+02                 +2.003267E-08  +8.915428E-01\n",
      " 2     00:00:00         1            22            0            0          0     +6.902597E+02                 +2.010280E-08  +8.915428E-01\n",
      " 2     00:00:00         1            23            0            0          0     +6.902597E+02                 +2.081876E-08  +8.915428E-01\n",
      " 2     00:00:00         1            24            0            0          0     +6.902597E+02                 +2.010280E-08  +8.915428E-01\n",
      " 2     00:00:00         1            25            0            0          0     +6.902597E+02                 +1.845799E-08  +8.915428E-01\n",
      " 2     00:00:00         1            26            0            0          0     +6.902597E+02                 +2.010280E-08  +8.915428E-01\n",
      " 2     00:00:00         1            27            0            0          0     +6.902597E+02                 +2.035477E-08  +8.915428E-01\n",
      " 2     00:00:00         1            28            0            0          0     +6.902597E+02                 +2.010280E-08  +8.915428E-01\n",
      " 2     00:00:00         1            29            0            0          0     +6.902597E+02  +9.322321E-12  +2.030318E-08  +8.915428E-01\n",
      " 2     00:00:00         1            30            0            0          0     +6.902597E+02                 +2.027212E-08  +8.915428E-01\n",
      "\n",
      "The optimization routine failed to converge. This problem can sometimes be mitigated by choosing more reasonable initial parameter values, setting more conservative bounds, or configuring other optimization settings.\n",
      "\n",
      "\n",
      "Optimization failed after 00:00:05.\n",
      "Computing the Hessian and estimating standard errors ...\n",
      "Computed results after 00:00:00.\n",
      "\n",
      "Problem Results Summary:\n",
      "===============================================================================================\n",
      "GMM     Objective      Projected       Reduced     Clipped  Weighting Matrix  Covariance Matrix\n",
      "Step      Value      Gradient Norm     Hessian     Shares   Condition Number  Condition Number \n",
      "----  -------------  -------------  -------------  -------  ----------------  -----------------\n",
      " 2    +6.902597E+02  +2.010280E-08  +5.610210E+03     0      +5.117503E+08      +1.992471E+04  \n",
      "===============================================================================================\n",
      "\n",
      "Cumulative Statistics:\n",
      "=================================================\n",
      "Computation  Optimizer  Optimization   Objective \n",
      "   Time      Converged   Iterations   Evaluations\n",
      "-----------  ---------  ------------  -----------\n",
      " 00:00:07       No           3            35     \n",
      "=================================================\n",
      "\n",
      "Rho Estimates (Robust SEs in Parentheses):\n",
      "===============\n",
      "  All Groups   \n",
      "---------------\n",
      " +8.915428E-01 \n",
      "(+1.913327E-02)\n",
      "===============\n",
      "\n",
      "Beta Estimates (Robust SEs in Parentheses):\n",
      "===============\n",
      "    prices     \n",
      "---------------\n",
      " -7.838283E+00 \n",
      "(+4.815462E-01)\n",
      "===============\n"
     ]
    }
   ],
   "source": [
    "# Nested Logit  \n",
    "product_data1 = product_data.copy()\n",
    "product_data1['nesting_ids'] = product_data1['mushy']  # all cereals in the same nest, the outside option is nest 0\n",
    "groups = product_data1.groupby(['market_ids','nesting_ids'])\n",
    "product_data1['demand_instruments20'] = groups['shares'].transform(np.size) # number of products in each nest within each market\n",
    "nl_formaulation = pyblp.Formulation('0 + prices')\n",
    "problem = pyblp.Problem(nl_formaulation, product_data1)\n",
    "\n",
    "nl_results = problem.solve(rho = .7)    # rho is the within-nest correlation, we used rammda in the chalss."
   ]
  }
 ],
 "metadata": {
  "kernelspec": {
   "display_name": "Python 3",
   "language": "python",
   "name": "python3"
  },
  "language_info": {
   "codemirror_mode": {
    "name": "ipython",
    "version": 3
   },
   "file_extension": ".py",
   "mimetype": "text/x-python",
   "name": "python",
   "nbconvert_exporter": "python",
   "pygments_lexer": "ipython3",
   "version": "3.13.1"
  }
 },
 "nbformat": 4,
 "nbformat_minor": 5
}
