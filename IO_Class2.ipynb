{
 "cells": [
  {
   "cell_type": "markdown",
   "id": "1259f489",
   "metadata": {},
   "source": [
    "## Class： Logit_BLP"
   ]
  },
  {
   "cell_type": "code",
   "execution_count": 11,
   "id": "0de573a9",
   "metadata": {},
   "outputs": [],
   "source": [
    "import numpy as np\n",
    "import pandas as pd\n",
    "import pyblp"
   ]
  },
  {
   "cell_type": "code",
   "execution_count": 12,
   "id": "02dee11d",
   "metadata": {},
   "outputs": [
    {
     "name": "stdout",
     "output_type": "stream",
     "text": [
      "   market_ids  firm_ids                 model   prices  screen_size_in  \\\n",
      "0           1         1  MacBook Pro 14\" (M4)  1606.39            14.0   \n",
      "1           1         1  MacBook Air 13\" (M3)  1091.23            13.3   \n",
      "2           1         2          Inspiron 14\"   700.78            14.0   \n",
      "3           1         5          VivoBook 15\"   636.10            15.6   \n",
      "4           1         5      ROG Zephyrus 15\"  1849.48            15.6   \n",
      "\n",
      "   ram_gb  storage_gb  brand_Apple  brand_Dell  brand_HP  brand_Lenovo  \\\n",
      "0      16         512         True       False     False         False   \n",
      "1       8         256         True       False     False         False   \n",
      "2       8         256        False        True     False         False   \n",
      "3       8         256        False       False     False         False   \n",
      "4      16        1000        False       False     False         False   \n",
      "\n",
      "   os_macOS    shares  nesting_ids  demand_instruments0  demand_instruments1  \\\n",
      "0      True  0.007528            1                   14          1647.859040   \n",
      "1      True  0.013436            1                   14          1136.258891   \n",
      "2     False  0.027943            0                   14           719.446207   \n",
      "3     False  0.027904            0                   14           667.619624   \n",
      "4     False  0.006086            0                   14          1887.566356   \n",
      "\n",
      "   demand_instruments2  \n",
      "0          1618.301543  \n",
      "1          1165.579539  \n",
      "2           658.865942  \n",
      "3           588.341206  \n",
      "4          1891.853887  \n"
     ]
    }
   ],
   "source": [
    "df = pd.read_csv('/Users/terrylu/Desktop/UF/Courses/2025-2026/IO/IO_Code/data/laptop_data.csv')\n",
    "\n",
    "print(df.head(5))"
   ]
  },
  {
   "cell_type": "code",
   "execution_count": 13,
   "id": "27a13885",
   "metadata": {},
   "outputs": [
    {
     "name": "stdout",
     "output_type": "stream",
     "text": [
      "Initializing the problem ...\n",
      "Initialized the problem after 00:00:00.\n",
      "\n",
      "Dimensions:\n",
      "==========================\n",
      " T    N     F    K1    MD \n",
      "---  ----  ---  ----  ----\n",
      "200  2196   5    5     7  \n",
      "==========================\n",
      "\n",
      "Formulations:\n",
      "===========================================================================\n",
      "     Column Indices:         0     1           2           3         4     \n",
      "--------------------------  ---  ------  --------------  ------  ----------\n",
      "X1: Linear Characteristics   1   prices  screen_size_in  ram_gb  storage_gb\n",
      "===========================================================================\n"
     ]
    }
   ],
   "source": [
    "# prepping data for pyblp\n",
    "product_data = df.drop(columns=['nesting_ids']).copy() # 我们要先做“简单 Logit”（不是嵌套 Logit），所以不需要分组/巢（nest）信息，先把 nesting_ids 去掉。\n",
    "# product characteristics, demand, instruments\n",
    "\n",
    "#simple (agg market share) logit\n",
    "logit_formulation = pyblp.Formulation(\n",
    "    \"1+ prices + screen_size_in + ram_gb + storage_gb\" # 设置消费者的平均效用 δ_jt = β0 + β_priceprice + β1screen + β2ram + β3storage\n",
    ")\n",
    "# pyblp.Formulation(...)：用“公式字符串”定义需求方的效用规格（linear characteristics）。\n",
    "# 语法类似 R/patsy：1 表示截距项；“+ 变量名”加入相应列。\n",
    "# 注意：默认其实自带截距，\"1 + ...\" 与 \"1+ ...\" 都可以，\"0 + ...\" 才是去掉截距。\n",
    "\n",
    "\n",
    "problem_logit = pyblp.Problem( # yblp.Problem(formulation, product_data)：构造一个估计问题对象。\n",
    "    logit_formulation,\n",
    "    product_data\n",
    ")"
   ]
  },
  {
   "cell_type": "markdown",
   "id": "0c855501",
   "metadata": {},
   "source": [
    "T = 200\n",
    "\n",
    "市场的数量（number of markets）。\n",
    "\n",
    "也就是你有 200 个不同的 market_id，比如不同地区、季度组合。\n",
    "\n",
    "N = 2196\n",
    "\n",
    "产品-市场观测值的总数（total product-market observations）。\n",
    "\n",
    "每一行数据代表某个产品在某个市场的情况。\n",
    "\n",
    "平均下来 = 2196 ÷ 200 ≈ 11 个产品/市场。\n",
    "\n",
    "F = 5\n",
    "\n",
    "产品特征（features）的数量，包括截距（intercept）。\n",
    "\n",
    "这里是：1 (常数项) + prices + screen_size_in + ram_gb + storage_gb。\n",
    "\n",
    "K1 = 5\n",
    "\n",
    "线性效用中的参数数量（linear characteristics）。\n",
    "\n",
    "和 F 一致，因为你没有额外的 non-linear terms 或 random coefficients。\n",
    "\n",
    "MD = 7\n",
    "\n",
    "工具变量和额外矩条件（moment dimensions）的数量。\n",
    "\n",
    "pyblp 默认会自动生成一些 instruments，比如价格、特征、以及它们的函数。"
   ]
  },
  {
   "cell_type": "code",
   "execution_count": 14,
   "id": "2671542e",
   "metadata": {},
   "outputs": [
    {
     "name": "stdout",
     "output_type": "stream",
     "text": [
      "Solving the problem ...\n",
      "Updating the weighting matrix ...\n",
      "Computed results after 00:00:00.\n",
      "\n",
      "Problem Results Summary:\n",
      "=================================================================\n",
      "GMM     Objective    Clipped  Weighting Matrix  Covariance Matrix\n",
      "Step      Value      Shares   Condition Number  Condition Number \n",
      "----  -------------  -------  ----------------  -----------------\n",
      " 1    +8.013112E+01     0      +1.857417E+09      +7.712179E+08  \n",
      "=================================================================\n",
      "\n",
      "Estimating standard errors ...\n",
      "Computed results after 00:00:00.\n",
      "\n",
      "Problem Results Summary:\n",
      "=================================================================\n",
      "GMM     Objective    Clipped  Weighting Matrix  Covariance Matrix\n",
      "Step      Value      Shares   Condition Number  Condition Number \n",
      "----  -------------  -------  ----------------  -----------------\n",
      " 2    +1.189330E+03     0      +2.230494E+09      +1.758367E+09  \n",
      "=================================================================\n",
      "\n",
      "Cumulative Statistics:\n",
      "========================\n",
      "Computation   Objective \n",
      "   Time      Evaluations\n",
      "-----------  -----------\n",
      " 00:00:00         2     \n",
      "========================\n",
      "\n",
      "Beta Estimates (Robust SEs in Parentheses):\n",
      "===================================================================================\n",
      "       1             prices       screen_size_in       ram_gb         storage_gb   \n",
      "---------------  ---------------  ---------------  ---------------  ---------------\n",
      " -2.209660E+00    -1.842701E-03    +7.800004E-03    -3.331786E-04    +1.032387E-03 \n",
      "(+1.110494E-01)  (+1.770974E-05)  (+6.997076E-03)  (+3.149926E-03)  (+3.408109E-05)\n",
      "===================================================================================\n"
     ]
    }
   ],
   "source": [
    "#estimate logit\n",
    "\n",
    "results_logit = problem_logit.solve()"
   ]
  },
  {
   "cell_type": "markdown",
   "id": "814b2484",
   "metadata": {},
   "source": [
    "why does ram_gb have a negative coefficient?\n",
    "\n",
    "sicne this may related to brand. for example, apple macbook has low ram but high price."
   ]
  },
  {
   "cell_type": "code",
   "execution_count": 15,
   "id": "a9d92205",
   "metadata": {},
   "outputs": [
    {
     "name": "stdout",
     "output_type": "stream",
     "text": [
      "Initializing the problem ...\n",
      "Initialized the problem after 00:00:00.\n",
      "\n",
      "Dimensions:\n",
      "==========================\n",
      " T    N     F    K1    MD \n",
      "---  ----  ---  ----  ----\n",
      "200  2196   5    9     11 \n",
      "==========================\n",
      "\n",
      "Formulations:\n",
      "====================================================================================================================================================\n",
      "     Column Indices:         0     1           2           3         4             5                 6                 7                  8         \n",
      "--------------------------  ---  ------  --------------  ------  ----------  --------------  -----------------  ----------------  ------------------\n",
      "X1: Linear Characteristics   1   prices  screen_size_in  ram_gb  storage_gb  brand_HP[True]  brand_Apple[True]  brand_Dell[True]  brand_Lenovo[True]\n",
      "====================================================================================================================================================\n"
     ]
    }
   ],
   "source": [
    "# logit with dummies (ASUS is baseline)\n",
    "logit_formulation_2 = pyblp.Formulation(\n",
    "    \"1+ prices + screen_size_in + ram_gb + storage_gb\" \\\n",
    "    \"+ brand_HP + brand_Apple + brand_Dell + brand_Lenovo\"\n",
    ")\n",
    "\n",
    "problem_logit_2 = pyblp.Problem(\n",
    "    logit_formulation_2,\n",
    "    product_data\n",
    ")\n",
    "\n",
    "# ❌ ASUS/Microsoft ≠ outside option。\n",
    "\n",
    "# ✅ 它们只是基准品牌，效用差异通过其他 dummy 相对估计。\n",
    "\n",
    "# 真正的 outside option 是单独的一行记录（通常 market share = 1 − Σ inside shares）。\n",
    "\n",
    "# differnent of baseline and outside option: baseline is just a reference category for categorical variables, while outside option represents the choice of not selecting any of the available products.\n",
    "# we care compare the utility of different products relative to the baseline, not relative to the outside option."
   ]
  },
  {
   "cell_type": "code",
   "execution_count": 16,
   "id": "7ec23032",
   "metadata": {},
   "outputs": [
    {
     "name": "stdout",
     "output_type": "stream",
     "text": [
      "Solving the problem ...\n",
      "Updating the weighting matrix ...\n",
      "Computed results after 00:00:00.\n",
      "\n",
      "Problem Results Summary:\n",
      "=================================================================\n",
      "GMM     Objective    Clipped  Weighting Matrix  Covariance Matrix\n",
      "Step      Value      Shares   Condition Number  Condition Number \n",
      "----  -------------  -------  ----------------  -----------------\n",
      " 1    +7.950784E+01     0      +2.653301E+09      +1.315120E+09  \n",
      "=================================================================\n",
      "\n",
      "Estimating standard errors ...\n",
      "Computed results after 00:00:00.\n",
      "\n",
      "Problem Results Summary:\n",
      "=================================================================\n",
      "GMM     Objective    Clipped  Weighting Matrix  Covariance Matrix\n",
      "Step      Value      Shares   Condition Number  Condition Number \n",
      "----  -------------  -------  ----------------  -----------------\n",
      " 2    +1.307044E+03     0      +2.875925E+09      +3.872637E+09  \n",
      "=================================================================\n",
      "\n",
      "Cumulative Statistics:\n",
      "========================\n",
      "Computation   Objective \n",
      "   Time      Evaluations\n",
      "-----------  -----------\n",
      " 00:00:00         2     \n",
      "========================\n",
      "\n",
      "Beta Estimates (Robust SEs in Parentheses):\n",
      "=============================================================================================================================================================\n",
      "       1             prices       screen_size_in       ram_gb         storage_gb     brand_HP[True]   brand_Apple[True]  brand_Dell[True]  brand_Lenovo[True]\n",
      "---------------  ---------------  ---------------  ---------------  ---------------  ---------------  -----------------  ----------------  ------------------\n",
      " -3.211238E+00    -1.994877E-03    +6.049536E-02    +1.725538E-02    +1.038012E-03    +2.039773E-01     +3.119381E-01     +2.198873E-01      +1.676565E-01   \n",
      "(+1.359851E-01)  (+2.852719E-05)  (+8.227916E-03)  (+4.106875E-03)  (+3.555665E-05)  (+1.810972E-02)   (+2.516369E-02)   (+1.911120E-02)    (+1.713670E-02)  \n",
      "=============================================================================================================================================================\n"
     ]
    }
   ],
   "source": [
    "results_logit_2 = problem_logit_2.solve()"
   ]
  },
  {
   "cell_type": "markdown",
   "id": "20cc2fd8",
   "metadata": {},
   "source": [
    "3.1 消费者价值/支付意愿（WTP）\n",
    "\n",
    "在简单 Logit 下，某一特征 x 的边际支付意愿：\n",
    "\n",
    "WTP_x = −β_x / β_price\n",
    "\n",
    "因为 dU=0 ⇒ β_x dx + β_price dp = 0 ⇒ dp/dx = −β_x/β_price\n",
    "\n",
    "代入本次估计（单位按你数据的价格单位，多数情况下是“美元”）：\n",
    "\n",
    "屏幕每 1 英寸：WTP_screen ≈ −0.06049536 / −0.001994877 ≈ 30.3\n",
    "\n",
    "RAM 每 1 GB：WTP_ram ≈ −0.01725538 / −0.001994877 ≈ 8.65\n",
    "\n",
    "存储每 1 GB：WTP_storage ≈ −0.001038012 / −0.001994877 ≈ 0.52\n",
    "\n",
    "品牌溢价（相对基准品牌的效用提升转成钱）：\n",
    "\n",
    "Apple: ≈ −0.3119381 / −0.001994877 ≈ 156.4\n",
    "\n",
    "HP: ≈ 102.3；Dell: ≈ 110.2；Lenovo: ≈ 84.1（同理计算）\n",
    "\n",
    "解读：这是“让消费者保持同等效用时，愿意多付（或少付）多少钱”；正值表示该特征越多越好。\n",
    "\n",
    "你之前用 diff = +1.725538E−02 / −1.994877E−03 得到 −8.65，本质上也是这个比值，但更标准的表述是“消费者愿意为每增加 1GB RAM 多付约 $8.65”。"
   ]
  },
  {
   "cell_type": "code",
   "execution_count": 17,
   "id": "2861f0f1",
   "metadata": {},
   "outputs": [
    {
     "name": "stdout",
     "output_type": "stream",
     "text": [
      "-8.649846582019844\n"
     ]
    }
   ],
   "source": [
    "diff = +1.725538E-02 / -1.994877E-03\n",
    "print(diff)  "
   ]
  },
  {
   "cell_type": "markdown",
   "id": "d0a06e2d",
   "metadata": {},
   "source": [
    "this diff = +1.725538E-02 / -1.994877E-03 = -8.649846582019844\n",
    "\n",
    "means:\n",
    "\n",
    "for one unit increase in ram_gb, the price will decrease by 8.649846582019844 unit, holding other features constant."
   ]
  },
  {
   "cell_type": "code",
   "execution_count": 18,
   "id": "61f5007c",
   "metadata": {},
   "outputs": [
    {
     "data": {
      "text/plain": [
       "array([[ 6.14108461e+00,  1.79277597e-03, -2.25501237e-04,\n",
       "        -4.92434011e+01, -9.38559234e-01, -6.50440115e-02,\n",
       "         2.53277006e-04,  8.64426066e-02, -1.10853395e+00,\n",
       "        -4.70334178e-01, -4.53079698e-01],\n",
       "       [ 1.79277597e-03,  2.60302414e-03, -2.29170064e-03,\n",
       "         5.70229280e-01, -3.50338655e-02, -4.12146149e-02,\n",
       "         1.46535725e-04,  3.08764391e-02, -1.16783258e-01,\n",
       "        -1.47300373e-02,  6.22732727e-02],\n",
       "       [-2.25501237e-04, -2.29170064e-03,  2.43414364e-03,\n",
       "         7.54985668e-01, -4.78707193e-02, -5.63288478e-03,\n",
       "        -1.94424173e-04,  1.36365892e-02, -1.51554808e-01,\n",
       "        -5.34776247e-02, -9.81648217e-02],\n",
       "       [-4.92434011e+01,  5.70229280e-01,  7.54985668e-01,\n",
       "         1.19930793e+04, -7.03265303e+02, -2.23030481e+02,\n",
       "         8.77845992e-01, -1.87641860e+02, -1.00335597e+03,\n",
       "        -5.77848131e+02, -3.04431333e+02],\n",
       "       [-9.38559234e-01, -3.50338655e-02, -4.78707193e-02,\n",
       "        -7.03265303e+02,  4.52926389e+01,  1.25579663e+01,\n",
       "        -5.53337934e-02,  5.67579399e+00,  5.64566686e+01,\n",
       "         3.10590703e+01,  1.40329203e+01],\n",
       "       [-6.50440115e-02, -4.12146149e-02, -5.63288478e-03,\n",
       "        -2.23030481e+02,  1.25579663e+01,  8.52150063e+00,\n",
       "        -3.64511131e-02, -3.33640299e+00,  2.37642834e+01,\n",
       "         8.98044446e+00, -2.11783845e+00],\n",
       "       [ 2.53277006e-04,  1.46535725e-04, -1.94424173e-04,\n",
       "         8.77845992e-01, -5.53337934e-02, -3.64511131e-02,\n",
       "         8.12906981e-04, -6.15153669e-03,  1.37813889e-01,\n",
       "        -2.35347116e-02,  1.24488101e-01],\n",
       "       [ 8.64426066e-02,  3.08764391e-02,  1.36365892e-02,\n",
       "        -1.87641860e+02,  5.67579399e+00, -3.33640299e+00,\n",
       "        -6.15153669e-03,  2.06647211e+02,  7.68508661e+01,\n",
       "         9.61306589e+01,  9.93338237e+01],\n",
       "       [-1.10853395e+00, -1.16783258e-01, -1.51554808e-01,\n",
       "        -1.00335597e+03,  5.64566686e+01,  2.37642834e+01,\n",
       "         1.37813889e-01,  7.68508661e+01,  3.65939852e+02,\n",
       "         1.40731838e+02,  1.42874151e+02],\n",
       "       [-4.70334178e-01, -1.47300373e-02, -5.34776247e-02,\n",
       "        -5.77848131e+02,  3.10590703e+01,  8.98044446e+00,\n",
       "        -2.35347116e-02,  9.61306589e+01,  1.40731838e+02,\n",
       "         2.07160091e+02,  1.06152563e+02],\n",
       "       [-4.53079698e-01,  6.22732727e-02, -9.81648217e-02,\n",
       "        -3.04431333e+02,  1.40329203e+01, -2.11783845e+00,\n",
       "         1.24488101e-01,  9.93338237e+01,  1.42874151e+02,\n",
       "         1.06152563e+02,  2.26351502e+02]])"
      ]
     },
     "execution_count": 18,
     "metadata": {},
     "output_type": "execute_result"
    }
   ],
   "source": [
    "results_logit_2.beta\n",
    "results_logit_2.delta\n",
    "results_logit_2.xi\n",
    "results_logit_2.W\n",
    "# results_logit_2.......\n",
    "\n",
    "# 输出（保存在 results_logit 对象里，常用属性/方法示例）：\n",
    "# results_logit.beta：线性参数估计值（含价格系数：应为负）。\n",
    "# results_logit.delta：估计出来的均值效用 δ̂。\n",
    "# results_logit.xi：需求误差 ξ̂（解释为产品-市场层面的未观测质量）。\n",
    "# results_logit.W：GMM 权重矩阵（若走 GMM）。"
   ]
  },
  {
   "cell_type": "code",
   "execution_count": 19,
   "id": "68d2ab33",
   "metadata": {},
   "outputs": [
    {
     "name": "stdout",
     "output_type": "stream",
     "text": [
      "Computing elasticities with respect to prices ...\n",
      "Finished after 00:00:00.\n",
      "\n"
     ]
    }
   ],
   "source": [
    "#compate elasticities\n",
    "elasticities_logit = results_logit_2.compute_elasticities()\n",
    "\n",
    "# 函数怎么用\n",
    "# 来自 pyblp 的结果对象方法，用估计到的参数与当前数据（价格、份额等）计算需求的价格弹性矩阵。\n",
    "#返回的是一个二维数组 E，形状为 (N, N)，N 是产品-市场观测数。\n",
    "# 默认计算的是“点弹性”（百分比变化），定义为 ε_jk = ∂s_j/∂p_k × (p_k / s_j)。\n",
    "\n",
    "# 输出特点\n",
    "# 对角线元素是 own-price elasticity，应为负数；\n",
    "# 非对角线是 cross-price elasticity，多为小正数（替代关系）。\n"
   ]
  },
  {
   "cell_type": "code",
   "execution_count": 20,
   "id": "da1712ab",
   "metadata": {},
   "outputs": [
    {
     "name": "stdout",
     "output_type": "stream",
     "text": [
      "(2196, 14)\n",
      "[[-3.18042631  0.02924826  0.03906406  0.03540878  0.02245479  0.04272027\n",
      "   0.04294751  0.0314521   0.00792754  0.07517989]\n",
      " [ 0.02412344 -2.14762088  0.03906406  0.03540878  0.02245479  0.04272027\n",
      "   0.04294751  0.0314521   0.00792754  0.07517989]\n",
      " [ 0.02412344  0.02924826 -1.35890554  0.03540878  0.02245479  0.04272027\n",
      "   0.04294751  0.0314521   0.00792754  0.07517989]\n",
      " [ 0.02412344  0.02924826  0.03906406 -1.2335322   0.02245479  0.04272027\n",
      "   0.04294751  0.0314521   0.00792754  0.07517989]\n",
      " [ 0.02412344  0.02924826  0.03906406  0.03540878 -3.66702951  0.04272027\n",
      "   0.04294751  0.0314521   0.00792754  0.07517989]\n",
      " [ 0.02412344  0.02924826  0.03906406  0.03540878  0.02245479 -0.94885308\n",
      "   0.04294751  0.0314521   0.00792754  0.07517989]\n",
      " [ 0.02412344  0.02924826  0.03906406  0.03540878  0.02245479  0.04272027\n",
      "  -1.26812526  0.0314521   0.00792754  0.07517989]\n",
      " [ 0.02412344  0.02924826  0.03906406  0.03540878  0.02245479  0.04272027\n",
      "   0.04294751 -2.55821685  0.00792754  0.07517989]\n",
      " [ 0.02412344  0.02924826  0.03906406  0.03540878  0.02245479  0.04272027\n",
      "   0.04294751  0.0314521  -4.81388858  0.07517989]\n",
      " [ 0.02412344  0.02924826  0.03906406  0.03540878  0.02245479  0.04272027\n",
      "   0.04294751  0.0314521   0.00792754 -1.91624554]]\n"
     ]
    }
   ],
   "source": [
    "# 矩阵的维度\n",
    "print(elasticities_logit.shape)\n",
    "\n",
    "# 前 5 行、前 5 列\n",
    "print(elasticities_logit[:10, :10])\n"
   ]
  },
  {
   "cell_type": "markdown",
   "id": "db8d7fef",
   "metadata": {},
   "source": [
    "怎么读这些数值？\n",
    "1. Own-price elasticity（对角线）\n",
    "\n",
    "例如第一行第一列：-3.18042631\n",
    "→ 这是 产品1 对自己价格的弹性。\n",
    "→ 负值（正常现象），说明提价会导致需求下降。\n",
    "→ 大小（约 -3.18）表示价格上升 1%，需求下降约 3.18%。\n",
    "\n",
    "2. Cross-price elasticity（非对角线）\n",
    "\n",
    "例如第一行第二列：0.0294826\n",
    "→ 这是 产品1 的需求 对 产品2 价格 的敏感度。\n",
    "→ 正值 → 说明产品1 和产品2 是 替代品（对方价格上涨 → 自己销量上升）。\n",
    "→ 如果出现负的交叉项，可能表示互补关系。\n",
    "\n",
    "3. 范围解释\n",
    "\n",
    "一般 own-price elasticity 应该 < -1（需求对价格敏感）。\n",
    "\n",
    "Cross-price elasticity 通常比较小（0.01 ~ 0.1 级别），但能反映竞争关系。\n",
    "\n",
    "🔹 你的矩阵具体例子\n",
    "\n",
    "第 2 行第 2 列：-2.14762088\n",
    "→ 产品2 的 own-price elasticity，大约 -2.15。\n",
    "\n",
    "第 2 行第 3 列：0.03906406\n",
    "→ 产品2 的需求对产品3 价格的敏感度（正，替代品）。\n",
    "\n",
    "第 6 行第 6 列：-0.94885308\n",
    "→ 产品6 own-price elasticity，约 -0.95（小于 1，说明需求比较缺乏弹性）。\n",
    "\n",
    "第 9 行第 9 列：-4.81388858\n",
    "→ 产品9 own-price elasticity，非常有弹性（价格稍微上涨，销量就大幅下降）。\n",
    "\n",
    "✅ 总结一句话：\n",
    "\n",
    "对角线（负数）： 每个产品对自己价格的弹性（own-price elasticity）。\n",
    "\n",
    "非对角线（多为小正数）： 产品之间的替代效应（cross-price elasticity）。\n",
    "\n",
    "数值大小 → 竞争强度，符号 → 替代还是互补。"
   ]
  },
  {
   "cell_type": "code",
   "execution_count": 21,
   "id": "a43b18cf",
   "metadata": {},
   "outputs": [
    {
     "data": {
      "text/plain": [
       "array([-3.18042631, -2.14762088, -1.35890554, -1.2335322 , -3.66702951])"
      ]
     },
     "execution_count": 21,
     "metadata": {},
     "output_type": "execute_result"
    }
   ],
   "source": [
    "np.diag(elasticities_logit)[:5]"
   ]
  },
  {
   "cell_type": "code",
   "execution_count": 22,
   "id": "72d4b520",
   "metadata": {},
   "outputs": [
    {
     "name": "stdout",
     "output_type": "stream",
     "text": [
      "Computing marginal costs ...\n"
     ]
    },
    {
     "name": "stdout",
     "output_type": "stream",
     "text": [
      "Finished after 00:00:00.\n",
      "\n",
      "[[1093.51072591]\n",
      " [ 578.35072591]\n",
      " [ 180.61448052]\n",
      " [ 110.36884162]\n",
      " [1323.74884162]]\n"
     ]
    }
   ],
   "source": [
    "# compute Marginal costs\n",
    "marginal_costs_logit = results_logit_2.compute_costs()\n",
    "print(marginal_costs_logit[:5])\n",
    "\n",
    "# 用已估计好的需求系统（来自 Logit 模型的参数和份额），外加一个供给面的行为假设（静态、差异化产品、Bertrand-Nash 竞争、线性定价），\n",
    "# 通过一阶条件回推出每个产品在每个市场的“边际成本”（marginal cost）。\n"
   ]
  },
  {
   "cell_type": "markdown",
   "id": "1cd06cdb",
   "metadata": {},
   "source": [
    "直觉解读：边际成本应低于对应价格，二者差值是加价（markup = price − mc）"
   ]
  },
  {
   "cell_type": "markdown",
   "id": "801e6983",
   "metadata": {},
   "source": [
    "### Cereal Data， 除了价格，其他都是产品固定效应"
   ]
  },
  {
   "cell_type": "code",
   "execution_count": 23,
   "id": "7a5c4893",
   "metadata": {},
   "outputs": [],
   "source": [
    "product_data = pd.read_csv(pyblp.data.NEVO_PRODUCTS_LOCATION)"
   ]
  },
  {
   "cell_type": "code",
   "execution_count": 24,
   "id": "e6451b5f",
   "metadata": {},
   "outputs": [
    {
     "data": {
      "text/plain": [
       "prices + Absorb[C(product_ids)]"
      ]
     },
     "execution_count": 24,
     "metadata": {},
     "output_type": "execute_result"
    }
   ],
   "source": [
    "logit_formulation_cereal = pyblp.Formulation('prices',\n",
    "                                             absorb = 'C(product_ids)' # absorb product fixed effects of each cereal\n",
    "# pyblp.Formulation(formula, absorb=...): 用公式字符串定义需求方的线性特征（X1），并用 absorb 吸收高维固定效应。\n",
    "# absorb='C(product_ids)' 的含义是“吸收产品固定效应”，C(...) 是类似 Patsy 的分类变量语法，\n",
    "# 表示把 product_ids 当作分类哑变量，但不显式生成列，而是用稀疏算法“吸收”掉。\n",
    "\n",
    "# 'prices' 表示模型里只放价格一个回归变量。\n",
    "\n",
    "# 在 IO/Logit 里做什么\n",
    "# 设定 δ_jt = α · price_jt + γ_j + ξ_jt，其中 γ_j 是“产品固定效应”（不随市场变），捕捉未观测、随时间不变的产品质量/偏好（例如品牌口碑、口味、包装等恒定特征）。\n",
    "# 这样做的目的是控制“时间不变的未观测质量”与价格的相关性，避免把这种相关性错归为价格效应。\n",
    ")\n",
    "\n",
    "logit_formulation_cereal"
   ]
  },
  {
   "cell_type": "code",
   "execution_count": 25,
   "id": "5ee185a6",
   "metadata": {},
   "outputs": [
    {
     "name": "stdout",
     "output_type": "stream",
     "text": [
      "Initializing the problem ...\n",
      "Absorbing demand-side fixed effects ...\n",
      "Initialized the problem after 00:00:00.\n",
      "\n",
      "Dimensions:\n",
      "================================\n",
      " T    N     F    K1    MD    ED \n",
      "---  ----  ---  ----  ----  ----\n",
      "94   2256   5    1     20    1  \n",
      "================================\n",
      "\n",
      "Formulations:\n",
      "==================================\n",
      "     Column Indices:          0   \n",
      "--------------------------  ------\n",
      "X1: Linear Characteristics  prices\n",
      "==================================\n"
     ]
    }
   ],
   "source": [
    "problem = pyblp.Problem(logit_formulation_cereal, product_data)\n",
    "# pyblp.Problem(formulation, product_data)：把模型规格和数据绑定成一个可估计的问题对象。"
   ]
  },
  {
   "cell_type": "code",
   "execution_count": 26,
   "id": "15ef7be1",
   "metadata": {},
   "outputs": [
    {
     "name": "stdout",
     "output_type": "stream",
     "text": [
      "Solving the problem ...\n",
      "Updating the weighting matrix ...\n",
      "Computed results after 00:00:00.\n",
      "\n",
      "Problem Results Summary:\n",
      "==============================================\n",
      "GMM     Objective    Clipped  Weighting Matrix\n",
      "Step      Value      Shares   Condition Number\n",
      "----  -------------  -------  ----------------\n",
      " 1    +1.899432E+02     0      +6.927228E+07  \n",
      "==============================================\n",
      "\n",
      "Estimating standard errors ...\n",
      "Computed results after 00:00:00.\n",
      "\n",
      "Problem Results Summary:\n",
      "==============================================\n",
      "GMM     Objective    Clipped  Weighting Matrix\n",
      "Step      Value      Shares   Condition Number\n",
      "----  -------------  -------  ----------------\n",
      " 2    +1.874555E+02     0      +5.682065E+07  \n",
      "==============================================\n",
      "\n",
      "Cumulative Statistics:\n",
      "========================\n",
      "Computation   Objective \n",
      "   Time      Evaluations\n",
      "-----------  -----------\n",
      " 00:00:00         2     \n",
      "========================\n",
      "\n",
      "Beta Estimates (Robust SEs in Parentheses):\n",
      "===============\n",
      "    prices     \n",
      "---------------\n",
      " -3.004710E+01 \n",
      "(+1.008589E+00)\n",
      "===============\n"
     ]
    }
   ],
   "source": [
    "logit_results_cereal = problem.solve()"
   ]
  },
  {
   "cell_type": "markdown",
   "id": "cf67e50b",
   "metadata": {},
   "source": [
    "这两行是在“用估好的模型，算一遍销量份额”，然后“把所有价格整体涨10%，再算一遍”，用来对比涨价前后份额怎么变。"
   ]
  },
  {
   "cell_type": "code",
   "execution_count": 33,
   "id": "f998766c",
   "metadata": {},
   "outputs": [
    {
     "name": "stdout",
     "output_type": "stream",
     "text": [
      "Computing shares ...\n",
      "Finished after 00:00:00.\n",
      "\n",
      "\n",
      "[[0.01241721]\n",
      " [0.00780939]\n",
      " [0.01299451]\n",
      " [0.00576996]\n",
      " [0.01793414]]\n",
      "Computing shares ...\n",
      "Finished after 00:00:00.\n",
      "\n",
      "\n",
      "[[0.01163712]\n",
      " [0.00644931]\n",
      " [0.01015992]\n",
      " [0.00453914]\n",
      " [0.01310805]]\n"
     ]
    }
   ],
   "source": [
    "# counterfatual shares\n",
    "share1 =logit_results_cereal.compute_shares(prices = product_data['prices'])[0:5]\n",
    "print(f\"\\n{share1}\")\n",
    "share2 = logit_results_cereal.compute_shares(prices = product_data['prices']*1.1)[0:5]\n",
    "print(f\"\\n{share2}\")"
   ]
  },
  {
   "cell_type": "markdown",
   "id": "a983e780",
   "metadata": {},
   "source": [
    "## 一个nest"
   ]
  },
  {
   "cell_type": "code",
   "execution_count": null,
   "id": "f48fe64e",
   "metadata": {},
   "outputs": [
    {
     "name": "stdout",
     "output_type": "stream",
     "text": [
      "Initializing the problem ...\n",
      "Initialized the problem after 00:00:00.\n",
      "\n",
      "Dimensions:\n",
      "===============================\n",
      " T    N     F    K1    MD    H \n",
      "---  ----  ---  ----  ----  ---\n",
      "94   2256   5    1     21    1 \n",
      "===============================\n",
      "\n",
      "Formulations:\n",
      "==================================\n",
      "     Column Indices:          0   \n",
      "--------------------------  ------\n",
      "X1: Linear Characteristics  prices\n",
      "==================================\n"
     ]
    }
   ],
   "source": [
    "# Nested Logit\n",
    "product_data1 = product_data.copy()\n",
    "product_data1['nesting_ids'] = 1  # all cereals in the same nest, the outside option is nest 0\n",
    "# 用法：新增一列 nesting_ids，并把所有“内部商品”放进同一个巢（编号 1）。\n",
    "# 含义：这是“内 vs 外”两层结构的嵌套 Logit：所有麦片在同一巢（1），外部选择（不买）是巢 0。ρ>0 时，巢内产品更相似、替代更强，放松简单 Logit 的 IIA。\n",
    "\n",
    "groups = product_data1.groupby(['market_ids','nesting_ids'])\n",
    "# 用法：按“市场×巢”分组，便于生成巢层面的变量。\n",
    "# 含义：Nested Logit 里常需要巢内统计量（如巢内份额、品类数量）来做解释或作为工具变量。\n",
    "\n",
    "product_data1['demand_instruments20'] = groups['shares'].transform(np.size) # number of products in each nest within each market\n",
    "# 含义：对按 ['market_ids','nesting_ids'] 分组后的每个组，计算该组行数（包括 NaN），\n",
    "# 并把“组大小”广播回每一行。返回的是与原 DataFrame 同长度、索引对齐的一列。\n",
    "\n",
    "# groups = product_data1.groupby(['market_ids','nesting_ids'])\n",
    "        # 含义：按两个键把表分组。每个“市场×巢”的组合是一组。\n",
    "        # 返回：一个“分组对象”，本身不计算，等你后面调用聚合/变换时才算。\n",
    "# product_data1['demand_instruments20'] = groups['shares'].transform(np.size)\n",
    "        # 含义：对每组的 shares 列执行 np.size（组内元素个数），并把“该组的结果”广播回组内每一行。 随便挑一列都一样，因为组大小对该组内所有行都一样。\n",
    "        # 结果：新增一列，每行是“它所属组的行数”。行数不变、索引对齐，能直接赋回原表。\n",
    "        # 等价写法：groups['shares'].transform('size')、groups['shares'].transform(len)\n",
    "\n",
    "# 用法：在每个“市场×巢”里计算该巢的产品数量，并把结果回填到每行。\n",
    "# 含义：把“巢内产品个数”作为一个需求侧工具变量（demand_instruments…），\n",
    "# 帮助识别价格系数/ρ（直觉：同类产品多、竞争激烈，会影响巢的“吸引力”）；前提是该数量对价格外生。\n",
    "\n",
    "\n",
    "nl_formaulation = pyblp.Formulation('0 + prices')\n",
    "problem = pyblp.Problem(nl_formaulation, product_data1)"
   ]
  },
  {
   "cell_type": "markdown",
   "id": "badff9a0",
   "metadata": {},
   "source": [
    "Initializing the problem ... / Initialized the problem after ...\n",
    "\n",
    "只是状态信息：问题对象创建并完成初始化，用了多少时间。\n",
    "Dimensions 表\n",
    "\n",
    "T = 94\n",
    "\n",
    "数据里 market_ids 的去重个数（多少个市场）。等价于 product_data['market_ids'].nunique()。\n",
    "\n",
    "N = 2256\n",
    "\n",
    "行数（产品×市场观测的总行数）。等价于 len(product_data)。\n",
    "\n",
    "F = 5\n",
    "\n",
    "内部“特征矩阵”的列数（pyblp 构造特征/工具变量时用到的列数）。注意它不一定等于 K1，尤其当你吸收了固定效应或开了额外特征/默认工具时。\n",
    "\n",
    "K1 = 1\n",
    "\n",
    "线性特征 X1 里“要估计的系数”的个数。你这里公式是 '0 + prices'，所以只有 1 列（价格）。\n",
    "\n",
    "MD = 21\n",
    "\n",
    "工具变量（或矩条件）列数的总计。简单理解就是“参与运算的 IV 列数”，包含 pyblp 自动生成的和你自己加的（比如 demand_instruments20）。\n",
    "\n",
    "H = 1\n",
    "\n",
    "内部使用的“人群/节点”数量，这里是 1（无额外分组或随机项时就是 1）。"
   ]
  },
  {
   "cell_type": "code",
   "execution_count": 102,
   "id": "f587466a",
   "metadata": {},
   "outputs": [
    {
     "name": "stdout",
     "output_type": "stream",
     "text": [
      "Solving the problem ...\n",
      "\n",
      "Rho Initial Values:\n",
      "=============\n",
      " All Groups  \n",
      "-------------\n",
      "+7.000000E-01\n",
      "=============\n",
      "\n",
      "Rho Lower Bounds:\n",
      "=============\n",
      " All Groups  \n",
      "-------------\n",
      "+0.000000E+00\n",
      "=============\n",
      "\n",
      "Rho Upper Bounds:\n",
      "=============\n",
      " All Groups  \n",
      "-------------\n",
      "+9.900000E-01\n",
      "=============\n",
      "\n",
      "Starting optimization ...\n",
      "\n"
     ]
    },
    {
     "name": "stdout",
     "output_type": "stream",
     "text": [
      "GMM   Computation  Optimization   Objective   Fixed Point  Contraction  Clipped    Objective      Objective      Projected                 \n",
      "Step     Time       Iterations   Evaluations  Iterations   Evaluations  Shares       Value       Improvement   Gradient Norm      Theta    \n",
      "----  -----------  ------------  -----------  -----------  -----------  -------  -------------  -------------  -------------  -------------\n",
      " 1     00:00:00         0             1            0            0          0     +1.331657E+02                 +6.086235E+02  +7.000000E-01\n",
      " 1     00:00:00         0             2            0            0          0     +4.727024E+01  +8.589549E+01  +1.624078E+01  +9.900000E-01\n",
      " 1     00:00:00         1             3            0            0          0     +4.720903E+01  +6.120631E-02  +1.143692E-10  +9.824626E-01\n",
      "\n",
      "Optimization completed after 00:00:01.\n",
      "Computing the Hessian and updating the weighting matrix ...\n",
      "Computed results after 00:00:00.\n",
      "\n",
      "Problem Results Summary:\n",
      "===============================================================================================\n",
      "GMM     Objective      Projected       Reduced     Clipped  Weighting Matrix  Covariance Matrix\n",
      "Step      Value      Gradient Norm     Hessian     Shares   Condition Number  Condition Number \n",
      "----  -------------  -------------  -------------  -------  ----------------  -----------------\n",
      " 1    +4.720903E+01  +1.143692E-10  +2.154696E+03     0      +1.995627E+09      +2.467900E+04  \n",
      "===============================================================================================\n",
      "\n",
      "Starting optimization ...\n",
      "\n",
      "GMM   Computation  Optimization   Objective   Fixed Point  Contraction  Clipped    Objective      Objective      Projected                 \n",
      "Step     Time       Iterations   Evaluations  Iterations   Evaluations  Shares       Value       Improvement   Gradient Norm      Theta    \n",
      "----  -----------  ------------  -----------  -----------  -----------  -------  -------------  -------------  -------------  -------------\n",
      " 2     00:00:00         0             1            0            0          0     +2.032711E+02                 +1.368046E+00  +9.824626E-01\n",
      " 2     00:00:00         0             2            0            0          0     +2.035660E+02                 +7.961020E+01  +9.900000E-01\n",
      " 2     00:00:00         0             3            0            0          0     +2.032711E+02  +8.710079E-05  +8.277912E-10  +9.825900E-01\n",
      "\n",
      "Optimization completed after 00:00:01.\n",
      "Computing the Hessian and estimating standard errors ...\n",
      "Computed results after 00:00:00.\n",
      "\n",
      "Problem Results Summary:\n",
      "===============================================================================================\n",
      "GMM     Objective      Projected       Reduced     Clipped  Weighting Matrix  Covariance Matrix\n",
      "Step      Value      Gradient Norm     Hessian     Shares   Condition Number  Condition Number \n",
      "----  -------------  -------------  -------------  -------  ----------------  -----------------\n",
      " 2    +2.032711E+02  +8.277912E-10  +1.074335E+04     0      +2.004550E+09      +3.028074E+04  \n",
      "===============================================================================================\n",
      "\n",
      "Cumulative Statistics:\n",
      "=================================================\n",
      "Computation  Optimizer  Optimization   Objective \n",
      "   Time      Converged   Iterations   Evaluations\n",
      "-----------  ---------  ------------  -----------\n",
      " 00:00:02       Yes          3             8     \n",
      "=================================================\n",
      "\n",
      "Rho Estimates (Robust SEs in Parentheses):\n",
      "===============\n",
      "  All Groups   \n",
      "---------------\n",
      " +9.825900E-01 \n",
      "(+1.357591E-02)\n",
      "===============\n",
      "\n",
      "Beta Estimates (Robust SEs in Parentheses):\n",
      "===============\n",
      "    prices     \n",
      "---------------\n",
      " -1.173321E+00 \n",
      "(+3.971345E-01)\n",
      "===============\n"
     ]
    }
   ],
   "source": [
    "nl_results = problem.solve(rho = .7)    # rho is the within-nest correlation, we used rammda in the chalss."
   ]
  },
  {
   "cell_type": "markdown",
   "id": "33ffeff1",
   "metadata": {},
   "source": [
    "## 不是一个nest了"
   ]
  },
  {
   "cell_type": "code",
   "execution_count": null,
   "id": "9f4b37b9",
   "metadata": {},
   "outputs": [
    {
     "name": "stdout",
     "output_type": "stream",
     "text": [
      "Initializing the problem ...\n",
      "Initialized the problem after 00:00:00.\n",
      "\n",
      "Dimensions:\n",
      "===============================\n",
      " T    N     F    K1    MD    H \n",
      "---  ----  ---  ----  ----  ---\n",
      "94   2256   5    1     21    2 \n",
      "===============================\n",
      "\n",
      "Formulations:\n",
      "==================================\n",
      "     Column Indices:          0   \n",
      "--------------------------  ------\n",
      "X1: Linear Characteristics  prices\n",
      "==================================\n",
      "Solving the problem ...\n",
      "\n",
      "Rho Initial Values:\n",
      "=============\n",
      " All Groups  \n",
      "-------------\n",
      "+7.000000E-01\n",
      "=============\n",
      "\n",
      "Rho Lower Bounds:\n",
      "=============\n",
      " All Groups  \n",
      "-------------\n",
      "+0.000000E+00\n",
      "=============\n",
      "\n",
      "Rho Upper Bounds:\n",
      "=============\n",
      " All Groups  \n",
      "-------------\n",
      "+9.900000E-01\n",
      "=============\n",
      "\n",
      "Starting optimization ...\n",
      "\n",
      "GMM   Computation  Optimization   Objective   Fixed Point  Contraction  Clipped    Objective      Objective      Projected                 \n",
      "Step     Time       Iterations   Evaluations  Iterations   Evaluations  Shares       Value       Improvement   Gradient Norm      Theta    \n",
      "----  -----------  ------------  -----------  -----------  -----------  -------  -------------  -------------  -------------  -------------\n",
      " 1     00:00:00         0             1            0            0          0     +3.552328E+02                 +4.602606E+02  +7.000000E-01\n",
      " 1     00:00:00         0             2            0            0          0     +2.980378E+02  +5.719504E+01  +6.581208E+01  +9.900000E-01\n",
      " 1     00:00:00         1             3            0            0          0     +2.968440E+02  +1.193805E+00  +1.839863E-09  +9.537208E-01\n",
      "\n",
      "Optimization completed after 00:00:01.\n",
      "Computing the Hessian and updating the weighting matrix ...\n",
      "Computed results after 00:00:01.\n",
      "\n",
      "Problem Results Summary:\n",
      "===============================================================================================\n",
      "GMM     Objective      Projected       Reduced     Clipped  Weighting Matrix  Covariance Matrix\n",
      "Step      Value      Gradient Norm     Hessian     Shares   Condition Number  Condition Number \n",
      "----  -------------  -------------  -------------  -------  ----------------  -----------------\n",
      " 1    +2.968440E+02  +1.839863E-09  +1.814179E+03     0      +6.747991E+08      +1.667948E+04  \n",
      "===============================================================================================\n",
      "\n",
      "Starting optimization ...\n",
      "\n",
      "GMM   Computation  Optimization   Objective   Fixed Point  Contraction  Clipped    Objective      Objective      Projected                 \n",
      "Step     Time       Iterations   Evaluations  Iterations   Evaluations  Shares       Value       Improvement   Gradient Norm      Theta    \n",
      "----  -----------  ------------  -----------  -----------  -----------  -------  -------------  -------------  -------------  -------------\n",
      " 2     00:00:00         0             1            0            0          0     +7.011045E+02                 +3.488322E+02  +9.537208E-01\n",
      " 2     00:00:00         0             2            0            0          0     +2.919897E+03                 +5.001750E+03  +0.000000E+00\n",
      " 2     00:00:00         0             3            0            0          0     +6.902597E+02  +1.084484E+01  +2.010280E-08  +8.915428E-01\n",
      " 2     00:00:00         1             4            0            0          0     +6.902597E+02                 +1.420144E-09  +8.915428E-01\n",
      " 2     00:00:00         1             5            0            0          0     +6.902597E+02                 +2.010280E-08  +8.915428E-01\n",
      " 2     00:00:00         1             6            0            0          0     +6.902597E+02                 +9.224173E-09  +8.915428E-01\n",
      " 2     00:00:00         1             7            0            0          0     +6.902597E+02                 +2.010280E-08  +8.915428E-01\n",
      " 2     00:00:00         1             8            0            0          0     +6.902597E+02                 +1.673365E-08  +8.915428E-01\n",
      " 2     00:00:00         1             9            0            0          0     +6.902597E+02                 +2.010280E-08  +8.915428E-01\n",
      " 2     00:00:00         1            10            0            0          0     +6.902597E+02                 +1.929067E-08  +8.915428E-01\n",
      " 2     00:00:00         1            11            0            0          0     +6.902597E+02                 +2.010280E-08  +8.915428E-01\n",
      " 2     00:00:00         1            12            0            0          0     +6.902597E+02                 +1.792800E-08  +8.915428E-01\n",
      " 2     00:00:00         1            13            0            0          0     +6.902597E+02                 +2.010280E-08  +8.915428E-01\n",
      " 2     00:00:00         1            14            0            0          0     +6.902597E+02                 +1.981877E-08  +8.915428E-01\n",
      " 2     00:00:00         1            15            0            0          0     +6.902597E+02                 +2.010280E-08  +8.915428E-01\n",
      " 2     00:00:00         1            16            0            0          0     +6.902597E+02                 +1.831460E-08  +8.915428E-01\n",
      " 2     00:00:00         1            17            0            0          0     +6.902597E+02                 +2.010280E-08  +8.915428E-01\n",
      " 2     00:00:00         1            18            0            0          0     +6.902597E+02                 +1.127630E-04  +8.915428E-01\n",
      " 2     00:00:00         1            19            0            0          0     +6.902597E+02                 +2.027099E-08  +8.915428E-01\n",
      " 2     00:00:00         1            20            0            0          0     +6.902597E+02                 +2.010280E-08  +8.915428E-01\n",
      " 2     00:00:00         1            21            0            0          0     +6.902597E+02                 +2.003267E-08  +8.915428E-01\n",
      " 2     00:00:00         1            22            0            0          0     +6.902597E+02                 +2.010280E-08  +8.915428E-01\n",
      " 2     00:00:00         1            23            0            0          0     +6.902597E+02                 +2.081876E-08  +8.915428E-01\n",
      " 2     00:00:00         1            24            0            0          0     +6.902597E+02                 +2.010280E-08  +8.915428E-01\n",
      " 2     00:00:00         1            25            0            0          0     +6.902597E+02                 +1.845799E-08  +8.915428E-01\n",
      " 2     00:00:00         1            26            0            0          0     +6.902597E+02                 +2.010280E-08  +8.915428E-01\n",
      " 2     00:00:00         1            27            0            0          0     +6.902597E+02                 +2.035477E-08  +8.915428E-01\n",
      " 2     00:00:00         1            28            0            0          0     +6.902597E+02                 +2.010280E-08  +8.915428E-01\n",
      " 2     00:00:00         1            29            0            0          0     +6.902597E+02  +9.322321E-12  +2.030318E-08  +8.915428E-01\n",
      " 2     00:00:00         1            30            0            0          0     +6.902597E+02                 +2.027212E-08  +8.915428E-01\n",
      "\n",
      "The optimization routine failed to converge. This problem can sometimes be mitigated by choosing more reasonable initial parameter values, setting more conservative bounds, or configuring other optimization settings.\n",
      "\n",
      "\n",
      "Optimization failed after 00:00:05.\n",
      "Computing the Hessian and estimating standard errors ...\n",
      "Computed results after 00:00:00.\n",
      "\n",
      "Problem Results Summary:\n",
      "===============================================================================================\n",
      "GMM     Objective      Projected       Reduced     Clipped  Weighting Matrix  Covariance Matrix\n",
      "Step      Value      Gradient Norm     Hessian     Shares   Condition Number  Condition Number \n",
      "----  -------------  -------------  -------------  -------  ----------------  -----------------\n",
      " 2    +6.902597E+02  +2.010280E-08  +5.610210E+03     0      +5.117503E+08      +1.992471E+04  \n",
      "===============================================================================================\n",
      "\n",
      "Cumulative Statistics:\n",
      "=================================================\n",
      "Computation  Optimizer  Optimization   Objective \n",
      "   Time      Converged   Iterations   Evaluations\n",
      "-----------  ---------  ------------  -----------\n",
      " 00:00:07       No           3            35     \n",
      "=================================================\n",
      "\n",
      "Rho Estimates (Robust SEs in Parentheses):\n",
      "===============\n",
      "  All Groups   \n",
      "---------------\n",
      " +8.915428E-01 \n",
      "(+1.913327E-02)\n",
      "===============\n",
      "\n",
      "Beta Estimates (Robust SEs in Parentheses):\n",
      "===============\n",
      "    prices     \n",
      "---------------\n",
      " -7.838283E+00 \n",
      "(+4.815462E-01)\n",
      "===============\n"
     ]
    }
   ],
   "source": [
    "# Nested Logit\n",
    "product_data1 = product_data.copy()\n",
    "product_data1['nesting_ids'] = product_data1['mushy'] \n",
    "# 新建列 nesting_ids，用现有列 mushy 的取值当分组标签（按 mushy 分“组”）。 mushy 是 Nevo 谷物（cereal）示例数据里的一个产品特征列，表示“容易变糊/在牛奶里容易软”（质地特性），通常是二元变量：0=不易变糊，1=易变糊。\n",
    "# 含义：这是“多巢”结构的嵌套 Logit，不同 mushy 值的麦片在不同巢里。ρ>0 时，巢内产品更相似、替代更强，放松简单 Logit 的 IIA。\n",
    "\n",
    "groups = product_data1.groupby(['market_ids','nesting_ids'])\n",
    "product_data1['demand_instruments20'] = groups['shares'].transform(np.size) # number of products in each nest within each market\n",
    "nl_formaulation = pyblp.Formulation('0 + prices')\n",
    "problem = pyblp.Problem(nl_formaulation, product_data1)\n",
    "\n",
    "nl_results = problem.solve(rho = .7)    # rho is the within-nest correlation, we used rammda in the chalss."
   ]
  }
 ],
 "metadata": {
  "kernelspec": {
   "display_name": "Python 3",
   "language": "python",
   "name": "python3"
  },
  "language_info": {
   "codemirror_mode": {
    "name": "ipython",
    "version": 3
   },
   "file_extension": ".py",
   "mimetype": "text/x-python",
   "name": "python",
   "nbconvert_exporter": "python",
   "pygments_lexer": "ipython3",
   "version": "3.13.1"
  }
 },
 "nbformat": 4,
 "nbformat_minor": 5
}
